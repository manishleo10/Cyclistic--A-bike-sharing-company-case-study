{
 "cells": [
  {
   "cell_type": "markdown",
   "id": "bfcd3d05",
   "metadata": {
    "papermill": {
     "duration": 0.018986,
     "end_time": "2021-07-17T10:13:37.331056",
     "exception": false,
     "start_time": "2021-07-17T10:13:37.312070",
     "status": "completed"
    },
    "tags": []
   },
   "source": [
    "## **Introduction**\n",
    "\n",
    "Cyclistic is a bike-sharing compnay wants to understand how casual riders and annual members use Cyclistic bikes differently. From these insights, they will design a new marketing strategy to convert casual riders into annual members.\n",
    "Cyclistic’s finance analysts have concluded that annual members are much more profitable than casual riders. Although the\n",
    "pricing flexibility helps Cyclistic attract more customers, Cyclistic believes that maximizing the number of annual members will be key to future growth.\n",
    "\n",
    "## Phase 1: Ask\n",
    "\n",
    "**Key tasks:**\n",
    "1. Identify the business task  \n",
    "\n",
    "  *Cylistic* is a bike-sharing company that wants to convert it's casual riders to member riders. For that they want to     know what differntiate a casual rider from a member. On basis of this difference *Cylistic* want to design a marketing     campaingn to allure the casual riders to become a member.  \n",
    "\n",
    "2. Consider key stakeholders  \n",
    "* Lily Moreno- Director of marketing\n",
    "* Cyclistic executive team\n",
    "\n",
    "**Business Task**- Identify the key differences between the casual and member riders in order for the *Cyclistic executive team* to knit a market campaign to transition the casual riders into members. Also, How can the insights from the analysis process can drive the business decision for *Cyclistic*.\n",
    "\n",
    "## Phase 2: Prepare\n",
    "\n",
    "\n",
    "**Key tasks:**\n",
    "1. **Identify how the data is organized**\n",
    "\n",
    "  The data is organized into zip files, which on further extraction reveals that it is in .csv format.\n",
    "  \n",
    "2. **Determine the credibility of data**\n",
    " \n",
    "   The data is public data from a bike sharing company and is stored on amazonaws [link](http://divvy-tripdata.s3.amazonaws.com/index.html). It's starting year is from year 2013 until 2021 (three months), Inside the dataset   the files are organized by quarter, or month, or the whole year and their names vary a lot. The names of the columns are     also different and there are some columns added and deleted over the years as we can see from the date modified. This data    was made public by Motivate International Inc, under this [license](https://www.divvybikes.com/data-license-agreement).\n",
    "\n",
    "3. **Sort and filter the data**\n",
    "\n",
    "   For my analysis I'am going to use the historical data from period 2020-2021(12 months). \n",
    "  \n",
    "\n"
   ]
  },
  {
   "cell_type": "code",
   "execution_count": 1,
   "id": "1cf6bcff",
   "metadata": {
    "execution": {
     "iopub.execute_input": "2021-07-17T10:13:37.369276Z",
     "iopub.status.busy": "2021-07-17T10:13:37.366667Z",
     "iopub.status.idle": "2021-07-17T10:13:38.667091Z",
     "shell.execute_reply": "2021-07-17T10:13:38.665715Z"
    },
    "papermill": {
     "duration": 1.32026,
     "end_time": "2021-07-17T10:13:38.667334",
     "exception": false,
     "start_time": "2021-07-17T10:13:37.347074",
     "status": "completed"
    },
    "tags": []
   },
   "outputs": [
    {
     "name": "stderr",
     "output_type": "stream",
     "text": [
      "── \u001b[1mAttaching packages\u001b[22m ─────────────────────────────────────── tidyverse 1.3.1 ──\n",
      "\n",
      "\u001b[32m✔\u001b[39m \u001b[34mggplot2\u001b[39m 3.3.4     \u001b[32m✔\u001b[39m \u001b[34mpurrr  \u001b[39m 0.3.4\n",
      "\u001b[32m✔\u001b[39m \u001b[34mtibble \u001b[39m 3.1.2     \u001b[32m✔\u001b[39m \u001b[34mdplyr  \u001b[39m 1.0.7\n",
      "\u001b[32m✔\u001b[39m \u001b[34mtidyr  \u001b[39m 1.1.3     \u001b[32m✔\u001b[39m \u001b[34mstringr\u001b[39m 1.4.0\n",
      "\u001b[32m✔\u001b[39m \u001b[34mreadr  \u001b[39m 1.4.0     \u001b[32m✔\u001b[39m \u001b[34mforcats\u001b[39m 0.5.1\n",
      "\n",
      "── \u001b[1mConflicts\u001b[22m ────────────────────────────────────────── tidyverse_conflicts() ──\n",
      "\u001b[31m✖\u001b[39m \u001b[34mdplyr\u001b[39m::\u001b[32mfilter()\u001b[39m masks \u001b[34mstats\u001b[39m::filter()\n",
      "\u001b[31m✖\u001b[39m \u001b[34mdplyr\u001b[39m::\u001b[32mlag()\u001b[39m    masks \u001b[34mstats\u001b[39m::lag()\n",
      "\n",
      "\n",
      "Attaching package: ‘lubridate’\n",
      "\n",
      "\n",
      "The following objects are masked from ‘package:base’:\n",
      "\n",
      "    date, intersect, setdiff, union\n",
      "\n",
      "\n"
     ]
    }
   ],
   "source": [
    "# First, Loading the required packages for data cleaning and analysis\n",
    "library(\"tidyverse\")\n",
    "library(\"lubridate\")\n",
    "library(\"ggplot2\")"
   ]
  },
  {
   "cell_type": "code",
   "execution_count": 2,
   "id": "ddda71df",
   "metadata": {
    "execution": {
     "iopub.execute_input": "2021-07-17T10:13:38.732950Z",
     "iopub.status.busy": "2021-07-17T10:13:38.705003Z",
     "iopub.status.idle": "2021-07-17T10:14:37.365629Z",
     "shell.execute_reply": "2021-07-17T10:14:37.363980Z"
    },
    "papermill": {
     "duration": 58.680873,
     "end_time": "2021-07-17T10:14:37.365858",
     "exception": false,
     "start_time": "2021-07-17T10:13:38.684985",
     "status": "completed"
    },
    "tags": []
   },
   "outputs": [],
   "source": [
    "# Loading date into variables\n",
    "apr_2020 <- read.csv(\"../input/cyclistic/202004-divvy-tripdata/202004-divvy-tripdata.csv\")\n",
    "may_2020 <- read.csv(\"../input/cyclistic/202005-divvy-tripdata/202005-divvy-tripdata.csv\")\n",
    "jun_2020 <- read.csv(\"../input/cyclistic/202006-divvy-tripdata/202006-divvy-tripdata.csv\")\n",
    "jul_2020 <- read.csv(\"../input/cyclistic/202007-divvy-tripdata/202007-divvy-tripdata.csv\")\n",
    "aug_2020 <- read.csv(\"../input/cyclistic/202008-divvy-tripdata/202008-divvy-tripdata.csv\")\n",
    "sep_2020 <- read.csv(\"../input/cyclistic/202009-divvy-tripdata/202009-divvy-tripdata.csv\")\n",
    "oct_2020 <- read.csv(\"../input/cyclistic/202010-divvy-tripdata/202010-divvy-tripdata.csv\")\n",
    "nov_2020 <- read.csv(\"../input/cyclistic/202011-divvy-tripdata/202011-divvy-tripdata.csv\")\n",
    "dec_2020 <- read.csv(\"../input/cyclistic/202012-divvy-tripdata/202012-divvy-tripdata.csv\")\n",
    "jan_2021 <- read.csv(\"../input/cyclistic/202101-divvy-tripdata/202101-divvy-tripdata.csv\")\n",
    "feb_2021 <- read.csv(\"../input/cyclistic/202102-divvy-tripdata/202102-divvy-tripdata.csv\")\n",
    "mar_2021 <- read.csv(\"../input/cyclistic/202103-divvy-tripdata/202103-divvy-tripdata.csv\")"
   ]
  },
  {
   "cell_type": "code",
   "execution_count": 3,
   "id": "321332a9",
   "metadata": {
    "_kg_hide-output": true,
    "execution": {
     "iopub.execute_input": "2021-07-17T10:14:37.407138Z",
     "iopub.status.busy": "2021-07-17T10:14:37.405938Z",
     "iopub.status.idle": "2021-07-17T10:14:37.472764Z",
     "shell.execute_reply": "2021-07-17T10:14:37.471452Z"
    },
    "papermill": {
     "duration": 0.087322,
     "end_time": "2021-07-17T10:14:37.472917",
     "exception": false,
     "start_time": "2021-07-17T10:14:37.385595",
     "status": "completed"
    },
    "tags": []
   },
   "outputs": [
    {
     "data": {
      "text/html": [
       "<style>\n",
       ".list-inline {list-style: none; margin:0; padding: 0}\n",
       ".list-inline>li {display: inline-block}\n",
       ".list-inline>li:not(:last-child)::after {content: \"\\00b7\"; padding: 0 .5ex}\n",
       "</style>\n",
       "<ol class=list-inline><li>'ride_id'</li><li>'rideable_type'</li><li>'started_at'</li><li>'ended_at'</li><li>'start_station_name'</li><li>'start_station_id'</li><li>'end_station_name'</li><li>'end_station_id'</li><li>'start_lat'</li><li>'start_lng'</li><li>'end_lat'</li><li>'end_lng'</li><li>'member_casual'</li></ol>\n"
      ],
      "text/latex": [
       "\\begin{enumerate*}\n",
       "\\item 'ride\\_id'\n",
       "\\item 'rideable\\_type'\n",
       "\\item 'started\\_at'\n",
       "\\item 'ended\\_at'\n",
       "\\item 'start\\_station\\_name'\n",
       "\\item 'start\\_station\\_id'\n",
       "\\item 'end\\_station\\_name'\n",
       "\\item 'end\\_station\\_id'\n",
       "\\item 'start\\_lat'\n",
       "\\item 'start\\_lng'\n",
       "\\item 'end\\_lat'\n",
       "\\item 'end\\_lng'\n",
       "\\item 'member\\_casual'\n",
       "\\end{enumerate*}\n"
      ],
      "text/markdown": [
       "1. 'ride_id'\n",
       "2. 'rideable_type'\n",
       "3. 'started_at'\n",
       "4. 'ended_at'\n",
       "5. 'start_station_name'\n",
       "6. 'start_station_id'\n",
       "7. 'end_station_name'\n",
       "8. 'end_station_id'\n",
       "9. 'start_lat'\n",
       "10. 'start_lng'\n",
       "11. 'end_lat'\n",
       "12. 'end_lng'\n",
       "13. 'member_casual'\n",
       "\n",
       "\n"
      ],
      "text/plain": [
       " [1] \"ride_id\"            \"rideable_type\"      \"started_at\"        \n",
       " [4] \"ended_at\"           \"start_station_name\" \"start_station_id\"  \n",
       " [7] \"end_station_name\"   \"end_station_id\"     \"start_lat\"         \n",
       "[10] \"start_lng\"          \"end_lat\"            \"end_lng\"           \n",
       "[13] \"member_casual\"     "
      ]
     },
     "metadata": {},
     "output_type": "display_data"
    },
    {
     "data": {
      "text/html": [
       "<style>\n",
       ".list-inline {list-style: none; margin:0; padding: 0}\n",
       ".list-inline>li {display: inline-block}\n",
       ".list-inline>li:not(:last-child)::after {content: \"\\00b7\"; padding: 0 .5ex}\n",
       "</style>\n",
       "<ol class=list-inline><li>'ride_id'</li><li>'rideable_type'</li><li>'started_at'</li><li>'ended_at'</li><li>'start_station_name'</li><li>'start_station_id'</li><li>'end_station_name'</li><li>'end_station_id'</li><li>'start_lat'</li><li>'start_lng'</li><li>'end_lat'</li><li>'end_lng'</li><li>'member_casual'</li></ol>\n"
      ],
      "text/latex": [
       "\\begin{enumerate*}\n",
       "\\item 'ride\\_id'\n",
       "\\item 'rideable\\_type'\n",
       "\\item 'started\\_at'\n",
       "\\item 'ended\\_at'\n",
       "\\item 'start\\_station\\_name'\n",
       "\\item 'start\\_station\\_id'\n",
       "\\item 'end\\_station\\_name'\n",
       "\\item 'end\\_station\\_id'\n",
       "\\item 'start\\_lat'\n",
       "\\item 'start\\_lng'\n",
       "\\item 'end\\_lat'\n",
       "\\item 'end\\_lng'\n",
       "\\item 'member\\_casual'\n",
       "\\end{enumerate*}\n"
      ],
      "text/markdown": [
       "1. 'ride_id'\n",
       "2. 'rideable_type'\n",
       "3. 'started_at'\n",
       "4. 'ended_at'\n",
       "5. 'start_station_name'\n",
       "6. 'start_station_id'\n",
       "7. 'end_station_name'\n",
       "8. 'end_station_id'\n",
       "9. 'start_lat'\n",
       "10. 'start_lng'\n",
       "11. 'end_lat'\n",
       "12. 'end_lng'\n",
       "13. 'member_casual'\n",
       "\n",
       "\n"
      ],
      "text/plain": [
       " [1] \"ride_id\"            \"rideable_type\"      \"started_at\"        \n",
       " [4] \"ended_at\"           \"start_station_name\" \"start_station_id\"  \n",
       " [7] \"end_station_name\"   \"end_station_id\"     \"start_lat\"         \n",
       "[10] \"start_lng\"          \"end_lat\"            \"end_lng\"           \n",
       "[13] \"member_casual\"     "
      ]
     },
     "metadata": {},
     "output_type": "display_data"
    },
    {
     "data": {
      "text/html": [
       "<style>\n",
       ".list-inline {list-style: none; margin:0; padding: 0}\n",
       ".list-inline>li {display: inline-block}\n",
       ".list-inline>li:not(:last-child)::after {content: \"\\00b7\"; padding: 0 .5ex}\n",
       "</style>\n",
       "<ol class=list-inline><li>'ride_id'</li><li>'rideable_type'</li><li>'started_at'</li><li>'ended_at'</li><li>'start_station_name'</li><li>'start_station_id'</li><li>'end_station_name'</li><li>'end_station_id'</li><li>'start_lat'</li><li>'start_lng'</li><li>'end_lat'</li><li>'end_lng'</li><li>'member_casual'</li></ol>\n"
      ],
      "text/latex": [
       "\\begin{enumerate*}\n",
       "\\item 'ride\\_id'\n",
       "\\item 'rideable\\_type'\n",
       "\\item 'started\\_at'\n",
       "\\item 'ended\\_at'\n",
       "\\item 'start\\_station\\_name'\n",
       "\\item 'start\\_station\\_id'\n",
       "\\item 'end\\_station\\_name'\n",
       "\\item 'end\\_station\\_id'\n",
       "\\item 'start\\_lat'\n",
       "\\item 'start\\_lng'\n",
       "\\item 'end\\_lat'\n",
       "\\item 'end\\_lng'\n",
       "\\item 'member\\_casual'\n",
       "\\end{enumerate*}\n"
      ],
      "text/markdown": [
       "1. 'ride_id'\n",
       "2. 'rideable_type'\n",
       "3. 'started_at'\n",
       "4. 'ended_at'\n",
       "5. 'start_station_name'\n",
       "6. 'start_station_id'\n",
       "7. 'end_station_name'\n",
       "8. 'end_station_id'\n",
       "9. 'start_lat'\n",
       "10. 'start_lng'\n",
       "11. 'end_lat'\n",
       "12. 'end_lng'\n",
       "13. 'member_casual'\n",
       "\n",
       "\n"
      ],
      "text/plain": [
       " [1] \"ride_id\"            \"rideable_type\"      \"started_at\"        \n",
       " [4] \"ended_at\"           \"start_station_name\" \"start_station_id\"  \n",
       " [7] \"end_station_name\"   \"end_station_id\"     \"start_lat\"         \n",
       "[10] \"start_lng\"          \"end_lat\"            \"end_lng\"           \n",
       "[13] \"member_casual\"     "
      ]
     },
     "metadata": {},
     "output_type": "display_data"
    },
    {
     "data": {
      "text/html": [
       "<style>\n",
       ".list-inline {list-style: none; margin:0; padding: 0}\n",
       ".list-inline>li {display: inline-block}\n",
       ".list-inline>li:not(:last-child)::after {content: \"\\00b7\"; padding: 0 .5ex}\n",
       "</style>\n",
       "<ol class=list-inline><li>'ride_id'</li><li>'rideable_type'</li><li>'started_at'</li><li>'ended_at'</li><li>'start_station_name'</li><li>'start_station_id'</li><li>'end_station_name'</li><li>'end_station_id'</li><li>'start_lat'</li><li>'start_lng'</li><li>'end_lat'</li><li>'end_lng'</li><li>'member_casual'</li></ol>\n"
      ],
      "text/latex": [
       "\\begin{enumerate*}\n",
       "\\item 'ride\\_id'\n",
       "\\item 'rideable\\_type'\n",
       "\\item 'started\\_at'\n",
       "\\item 'ended\\_at'\n",
       "\\item 'start\\_station\\_name'\n",
       "\\item 'start\\_station\\_id'\n",
       "\\item 'end\\_station\\_name'\n",
       "\\item 'end\\_station\\_id'\n",
       "\\item 'start\\_lat'\n",
       "\\item 'start\\_lng'\n",
       "\\item 'end\\_lat'\n",
       "\\item 'end\\_lng'\n",
       "\\item 'member\\_casual'\n",
       "\\end{enumerate*}\n"
      ],
      "text/markdown": [
       "1. 'ride_id'\n",
       "2. 'rideable_type'\n",
       "3. 'started_at'\n",
       "4. 'ended_at'\n",
       "5. 'start_station_name'\n",
       "6. 'start_station_id'\n",
       "7. 'end_station_name'\n",
       "8. 'end_station_id'\n",
       "9. 'start_lat'\n",
       "10. 'start_lng'\n",
       "11. 'end_lat'\n",
       "12. 'end_lng'\n",
       "13. 'member_casual'\n",
       "\n",
       "\n"
      ],
      "text/plain": [
       " [1] \"ride_id\"            \"rideable_type\"      \"started_at\"        \n",
       " [4] \"ended_at\"           \"start_station_name\" \"start_station_id\"  \n",
       " [7] \"end_station_name\"   \"end_station_id\"     \"start_lat\"         \n",
       "[10] \"start_lng\"          \"end_lat\"            \"end_lng\"           \n",
       "[13] \"member_casual\"     "
      ]
     },
     "metadata": {},
     "output_type": "display_data"
    },
    {
     "data": {
      "text/html": [
       "<style>\n",
       ".list-inline {list-style: none; margin:0; padding: 0}\n",
       ".list-inline>li {display: inline-block}\n",
       ".list-inline>li:not(:last-child)::after {content: \"\\00b7\"; padding: 0 .5ex}\n",
       "</style>\n",
       "<ol class=list-inline><li>'ride_id'</li><li>'rideable_type'</li><li>'started_at'</li><li>'ended_at'</li><li>'start_station_name'</li><li>'start_station_id'</li><li>'end_station_name'</li><li>'end_station_id'</li><li>'start_lat'</li><li>'start_lng'</li><li>'end_lat'</li><li>'end_lng'</li><li>'member_casual'</li></ol>\n"
      ],
      "text/latex": [
       "\\begin{enumerate*}\n",
       "\\item 'ride\\_id'\n",
       "\\item 'rideable\\_type'\n",
       "\\item 'started\\_at'\n",
       "\\item 'ended\\_at'\n",
       "\\item 'start\\_station\\_name'\n",
       "\\item 'start\\_station\\_id'\n",
       "\\item 'end\\_station\\_name'\n",
       "\\item 'end\\_station\\_id'\n",
       "\\item 'start\\_lat'\n",
       "\\item 'start\\_lng'\n",
       "\\item 'end\\_lat'\n",
       "\\item 'end\\_lng'\n",
       "\\item 'member\\_casual'\n",
       "\\end{enumerate*}\n"
      ],
      "text/markdown": [
       "1. 'ride_id'\n",
       "2. 'rideable_type'\n",
       "3. 'started_at'\n",
       "4. 'ended_at'\n",
       "5. 'start_station_name'\n",
       "6. 'start_station_id'\n",
       "7. 'end_station_name'\n",
       "8. 'end_station_id'\n",
       "9. 'start_lat'\n",
       "10. 'start_lng'\n",
       "11. 'end_lat'\n",
       "12. 'end_lng'\n",
       "13. 'member_casual'\n",
       "\n",
       "\n"
      ],
      "text/plain": [
       " [1] \"ride_id\"            \"rideable_type\"      \"started_at\"        \n",
       " [4] \"ended_at\"           \"start_station_name\" \"start_station_id\"  \n",
       " [7] \"end_station_name\"   \"end_station_id\"     \"start_lat\"         \n",
       "[10] \"start_lng\"          \"end_lat\"            \"end_lng\"           \n",
       "[13] \"member_casual\"     "
      ]
     },
     "metadata": {},
     "output_type": "display_data"
    },
    {
     "data": {
      "text/html": [
       "<style>\n",
       ".list-inline {list-style: none; margin:0; padding: 0}\n",
       ".list-inline>li {display: inline-block}\n",
       ".list-inline>li:not(:last-child)::after {content: \"\\00b7\"; padding: 0 .5ex}\n",
       "</style>\n",
       "<ol class=list-inline><li>'ride_id'</li><li>'rideable_type'</li><li>'started_at'</li><li>'ended_at'</li><li>'start_station_name'</li><li>'start_station_id'</li><li>'end_station_name'</li><li>'end_station_id'</li><li>'start_lat'</li><li>'start_lng'</li><li>'end_lat'</li><li>'end_lng'</li><li>'member_casual'</li></ol>\n"
      ],
      "text/latex": [
       "\\begin{enumerate*}\n",
       "\\item 'ride\\_id'\n",
       "\\item 'rideable\\_type'\n",
       "\\item 'started\\_at'\n",
       "\\item 'ended\\_at'\n",
       "\\item 'start\\_station\\_name'\n",
       "\\item 'start\\_station\\_id'\n",
       "\\item 'end\\_station\\_name'\n",
       "\\item 'end\\_station\\_id'\n",
       "\\item 'start\\_lat'\n",
       "\\item 'start\\_lng'\n",
       "\\item 'end\\_lat'\n",
       "\\item 'end\\_lng'\n",
       "\\item 'member\\_casual'\n",
       "\\end{enumerate*}\n"
      ],
      "text/markdown": [
       "1. 'ride_id'\n",
       "2. 'rideable_type'\n",
       "3. 'started_at'\n",
       "4. 'ended_at'\n",
       "5. 'start_station_name'\n",
       "6. 'start_station_id'\n",
       "7. 'end_station_name'\n",
       "8. 'end_station_id'\n",
       "9. 'start_lat'\n",
       "10. 'start_lng'\n",
       "11. 'end_lat'\n",
       "12. 'end_lng'\n",
       "13. 'member_casual'\n",
       "\n",
       "\n"
      ],
      "text/plain": [
       " [1] \"ride_id\"            \"rideable_type\"      \"started_at\"        \n",
       " [4] \"ended_at\"           \"start_station_name\" \"start_station_id\"  \n",
       " [7] \"end_station_name\"   \"end_station_id\"     \"start_lat\"         \n",
       "[10] \"start_lng\"          \"end_lat\"            \"end_lng\"           \n",
       "[13] \"member_casual\"     "
      ]
     },
     "metadata": {},
     "output_type": "display_data"
    },
    {
     "data": {
      "text/html": [
       "<style>\n",
       ".list-inline {list-style: none; margin:0; padding: 0}\n",
       ".list-inline>li {display: inline-block}\n",
       ".list-inline>li:not(:last-child)::after {content: \"\\00b7\"; padding: 0 .5ex}\n",
       "</style>\n",
       "<ol class=list-inline><li>'ride_id'</li><li>'rideable_type'</li><li>'started_at'</li><li>'ended_at'</li><li>'start_station_name'</li><li>'start_station_id'</li><li>'end_station_name'</li><li>'end_station_id'</li><li>'start_lat'</li><li>'start_lng'</li><li>'end_lat'</li><li>'end_lng'</li><li>'member_casual'</li></ol>\n"
      ],
      "text/latex": [
       "\\begin{enumerate*}\n",
       "\\item 'ride\\_id'\n",
       "\\item 'rideable\\_type'\n",
       "\\item 'started\\_at'\n",
       "\\item 'ended\\_at'\n",
       "\\item 'start\\_station\\_name'\n",
       "\\item 'start\\_station\\_id'\n",
       "\\item 'end\\_station\\_name'\n",
       "\\item 'end\\_station\\_id'\n",
       "\\item 'start\\_lat'\n",
       "\\item 'start\\_lng'\n",
       "\\item 'end\\_lat'\n",
       "\\item 'end\\_lng'\n",
       "\\item 'member\\_casual'\n",
       "\\end{enumerate*}\n"
      ],
      "text/markdown": [
       "1. 'ride_id'\n",
       "2. 'rideable_type'\n",
       "3. 'started_at'\n",
       "4. 'ended_at'\n",
       "5. 'start_station_name'\n",
       "6. 'start_station_id'\n",
       "7. 'end_station_name'\n",
       "8. 'end_station_id'\n",
       "9. 'start_lat'\n",
       "10. 'start_lng'\n",
       "11. 'end_lat'\n",
       "12. 'end_lng'\n",
       "13. 'member_casual'\n",
       "\n",
       "\n"
      ],
      "text/plain": [
       " [1] \"ride_id\"            \"rideable_type\"      \"started_at\"        \n",
       " [4] \"ended_at\"           \"start_station_name\" \"start_station_id\"  \n",
       " [7] \"end_station_name\"   \"end_station_id\"     \"start_lat\"         \n",
       "[10] \"start_lng\"          \"end_lat\"            \"end_lng\"           \n",
       "[13] \"member_casual\"     "
      ]
     },
     "metadata": {},
     "output_type": "display_data"
    },
    {
     "data": {
      "text/html": [
       "<style>\n",
       ".list-inline {list-style: none; margin:0; padding: 0}\n",
       ".list-inline>li {display: inline-block}\n",
       ".list-inline>li:not(:last-child)::after {content: \"\\00b7\"; padding: 0 .5ex}\n",
       "</style>\n",
       "<ol class=list-inline><li>'ride_id'</li><li>'rideable_type'</li><li>'started_at'</li><li>'ended_at'</li><li>'start_station_name'</li><li>'start_station_id'</li><li>'end_station_name'</li><li>'end_station_id'</li><li>'start_lat'</li><li>'start_lng'</li><li>'end_lat'</li><li>'end_lng'</li><li>'member_casual'</li></ol>\n"
      ],
      "text/latex": [
       "\\begin{enumerate*}\n",
       "\\item 'ride\\_id'\n",
       "\\item 'rideable\\_type'\n",
       "\\item 'started\\_at'\n",
       "\\item 'ended\\_at'\n",
       "\\item 'start\\_station\\_name'\n",
       "\\item 'start\\_station\\_id'\n",
       "\\item 'end\\_station\\_name'\n",
       "\\item 'end\\_station\\_id'\n",
       "\\item 'start\\_lat'\n",
       "\\item 'start\\_lng'\n",
       "\\item 'end\\_lat'\n",
       "\\item 'end\\_lng'\n",
       "\\item 'member\\_casual'\n",
       "\\end{enumerate*}\n"
      ],
      "text/markdown": [
       "1. 'ride_id'\n",
       "2. 'rideable_type'\n",
       "3. 'started_at'\n",
       "4. 'ended_at'\n",
       "5. 'start_station_name'\n",
       "6. 'start_station_id'\n",
       "7. 'end_station_name'\n",
       "8. 'end_station_id'\n",
       "9. 'start_lat'\n",
       "10. 'start_lng'\n",
       "11. 'end_lat'\n",
       "12. 'end_lng'\n",
       "13. 'member_casual'\n",
       "\n",
       "\n"
      ],
      "text/plain": [
       " [1] \"ride_id\"            \"rideable_type\"      \"started_at\"        \n",
       " [4] \"ended_at\"           \"start_station_name\" \"start_station_id\"  \n",
       " [7] \"end_station_name\"   \"end_station_id\"     \"start_lat\"         \n",
       "[10] \"start_lng\"          \"end_lat\"            \"end_lng\"           \n",
       "[13] \"member_casual\"     "
      ]
     },
     "metadata": {},
     "output_type": "display_data"
    },
    {
     "data": {
      "text/html": [
       "<style>\n",
       ".list-inline {list-style: none; margin:0; padding: 0}\n",
       ".list-inline>li {display: inline-block}\n",
       ".list-inline>li:not(:last-child)::after {content: \"\\00b7\"; padding: 0 .5ex}\n",
       "</style>\n",
       "<ol class=list-inline><li>'ride_id'</li><li>'rideable_type'</li><li>'started_at'</li><li>'ended_at'</li><li>'start_station_name'</li><li>'start_station_id'</li><li>'end_station_name'</li><li>'end_station_id'</li><li>'start_lat'</li><li>'start_lng'</li><li>'end_lat'</li><li>'end_lng'</li><li>'member_casual'</li></ol>\n"
      ],
      "text/latex": [
       "\\begin{enumerate*}\n",
       "\\item 'ride\\_id'\n",
       "\\item 'rideable\\_type'\n",
       "\\item 'started\\_at'\n",
       "\\item 'ended\\_at'\n",
       "\\item 'start\\_station\\_name'\n",
       "\\item 'start\\_station\\_id'\n",
       "\\item 'end\\_station\\_name'\n",
       "\\item 'end\\_station\\_id'\n",
       "\\item 'start\\_lat'\n",
       "\\item 'start\\_lng'\n",
       "\\item 'end\\_lat'\n",
       "\\item 'end\\_lng'\n",
       "\\item 'member\\_casual'\n",
       "\\end{enumerate*}\n"
      ],
      "text/markdown": [
       "1. 'ride_id'\n",
       "2. 'rideable_type'\n",
       "3. 'started_at'\n",
       "4. 'ended_at'\n",
       "5. 'start_station_name'\n",
       "6. 'start_station_id'\n",
       "7. 'end_station_name'\n",
       "8. 'end_station_id'\n",
       "9. 'start_lat'\n",
       "10. 'start_lng'\n",
       "11. 'end_lat'\n",
       "12. 'end_lng'\n",
       "13. 'member_casual'\n",
       "\n",
       "\n"
      ],
      "text/plain": [
       " [1] \"ride_id\"            \"rideable_type\"      \"started_at\"        \n",
       " [4] \"ended_at\"           \"start_station_name\" \"start_station_id\"  \n",
       " [7] \"end_station_name\"   \"end_station_id\"     \"start_lat\"         \n",
       "[10] \"start_lng\"          \"end_lat\"            \"end_lng\"           \n",
       "[13] \"member_casual\"     "
      ]
     },
     "metadata": {},
     "output_type": "display_data"
    },
    {
     "data": {
      "text/html": [
       "<style>\n",
       ".list-inline {list-style: none; margin:0; padding: 0}\n",
       ".list-inline>li {display: inline-block}\n",
       ".list-inline>li:not(:last-child)::after {content: \"\\00b7\"; padding: 0 .5ex}\n",
       "</style>\n",
       "<ol class=list-inline><li>'ride_id'</li><li>'rideable_type'</li><li>'started_at'</li><li>'ended_at'</li><li>'start_station_name'</li><li>'start_station_id'</li><li>'end_station_name'</li><li>'end_station_id'</li><li>'start_lat'</li><li>'start_lng'</li><li>'end_lat'</li><li>'end_lng'</li><li>'member_casual'</li></ol>\n"
      ],
      "text/latex": [
       "\\begin{enumerate*}\n",
       "\\item 'ride\\_id'\n",
       "\\item 'rideable\\_type'\n",
       "\\item 'started\\_at'\n",
       "\\item 'ended\\_at'\n",
       "\\item 'start\\_station\\_name'\n",
       "\\item 'start\\_station\\_id'\n",
       "\\item 'end\\_station\\_name'\n",
       "\\item 'end\\_station\\_id'\n",
       "\\item 'start\\_lat'\n",
       "\\item 'start\\_lng'\n",
       "\\item 'end\\_lat'\n",
       "\\item 'end\\_lng'\n",
       "\\item 'member\\_casual'\n",
       "\\end{enumerate*}\n"
      ],
      "text/markdown": [
       "1. 'ride_id'\n",
       "2. 'rideable_type'\n",
       "3. 'started_at'\n",
       "4. 'ended_at'\n",
       "5. 'start_station_name'\n",
       "6. 'start_station_id'\n",
       "7. 'end_station_name'\n",
       "8. 'end_station_id'\n",
       "9. 'start_lat'\n",
       "10. 'start_lng'\n",
       "11. 'end_lat'\n",
       "12. 'end_lng'\n",
       "13. 'member_casual'\n",
       "\n",
       "\n"
      ],
      "text/plain": [
       " [1] \"ride_id\"            \"rideable_type\"      \"started_at\"        \n",
       " [4] \"ended_at\"           \"start_station_name\" \"start_station_id\"  \n",
       " [7] \"end_station_name\"   \"end_station_id\"     \"start_lat\"         \n",
       "[10] \"start_lng\"          \"end_lat\"            \"end_lng\"           \n",
       "[13] \"member_casual\"     "
      ]
     },
     "metadata": {},
     "output_type": "display_data"
    },
    {
     "data": {
      "text/html": [
       "<style>\n",
       ".list-inline {list-style: none; margin:0; padding: 0}\n",
       ".list-inline>li {display: inline-block}\n",
       ".list-inline>li:not(:last-child)::after {content: \"\\00b7\"; padding: 0 .5ex}\n",
       "</style>\n",
       "<ol class=list-inline><li>'ride_id'</li><li>'rideable_type'</li><li>'started_at'</li><li>'ended_at'</li><li>'start_station_name'</li><li>'start_station_id'</li><li>'end_station_name'</li><li>'end_station_id'</li><li>'start_lat'</li><li>'start_lng'</li><li>'end_lat'</li><li>'end_lng'</li><li>'member_casual'</li></ol>\n"
      ],
      "text/latex": [
       "\\begin{enumerate*}\n",
       "\\item 'ride\\_id'\n",
       "\\item 'rideable\\_type'\n",
       "\\item 'started\\_at'\n",
       "\\item 'ended\\_at'\n",
       "\\item 'start\\_station\\_name'\n",
       "\\item 'start\\_station\\_id'\n",
       "\\item 'end\\_station\\_name'\n",
       "\\item 'end\\_station\\_id'\n",
       "\\item 'start\\_lat'\n",
       "\\item 'start\\_lng'\n",
       "\\item 'end\\_lat'\n",
       "\\item 'end\\_lng'\n",
       "\\item 'member\\_casual'\n",
       "\\end{enumerate*}\n"
      ],
      "text/markdown": [
       "1. 'ride_id'\n",
       "2. 'rideable_type'\n",
       "3. 'started_at'\n",
       "4. 'ended_at'\n",
       "5. 'start_station_name'\n",
       "6. 'start_station_id'\n",
       "7. 'end_station_name'\n",
       "8. 'end_station_id'\n",
       "9. 'start_lat'\n",
       "10. 'start_lng'\n",
       "11. 'end_lat'\n",
       "12. 'end_lng'\n",
       "13. 'member_casual'\n",
       "\n",
       "\n"
      ],
      "text/plain": [
       " [1] \"ride_id\"            \"rideable_type\"      \"started_at\"        \n",
       " [4] \"ended_at\"           \"start_station_name\" \"start_station_id\"  \n",
       " [7] \"end_station_name\"   \"end_station_id\"     \"start_lat\"         \n",
       "[10] \"start_lng\"          \"end_lat\"            \"end_lng\"           \n",
       "[13] \"member_casual\"     "
      ]
     },
     "metadata": {},
     "output_type": "display_data"
    },
    {
     "data": {
      "text/html": [
       "<style>\n",
       ".list-inline {list-style: none; margin:0; padding: 0}\n",
       ".list-inline>li {display: inline-block}\n",
       ".list-inline>li:not(:last-child)::after {content: \"\\00b7\"; padding: 0 .5ex}\n",
       "</style>\n",
       "<ol class=list-inline><li>'ride_id'</li><li>'rideable_type'</li><li>'started_at'</li><li>'ended_at'</li><li>'start_station_name'</li><li>'start_station_id'</li><li>'end_station_name'</li><li>'end_station_id'</li><li>'start_lat'</li><li>'start_lng'</li><li>'end_lat'</li><li>'end_lng'</li><li>'member_casual'</li></ol>\n"
      ],
      "text/latex": [
       "\\begin{enumerate*}\n",
       "\\item 'ride\\_id'\n",
       "\\item 'rideable\\_type'\n",
       "\\item 'started\\_at'\n",
       "\\item 'ended\\_at'\n",
       "\\item 'start\\_station\\_name'\n",
       "\\item 'start\\_station\\_id'\n",
       "\\item 'end\\_station\\_name'\n",
       "\\item 'end\\_station\\_id'\n",
       "\\item 'start\\_lat'\n",
       "\\item 'start\\_lng'\n",
       "\\item 'end\\_lat'\n",
       "\\item 'end\\_lng'\n",
       "\\item 'member\\_casual'\n",
       "\\end{enumerate*}\n"
      ],
      "text/markdown": [
       "1. 'ride_id'\n",
       "2. 'rideable_type'\n",
       "3. 'started_at'\n",
       "4. 'ended_at'\n",
       "5. 'start_station_name'\n",
       "6. 'start_station_id'\n",
       "7. 'end_station_name'\n",
       "8. 'end_station_id'\n",
       "9. 'start_lat'\n",
       "10. 'start_lng'\n",
       "11. 'end_lat'\n",
       "12. 'end_lng'\n",
       "13. 'member_casual'\n",
       "\n",
       "\n"
      ],
      "text/plain": [
       " [1] \"ride_id\"            \"rideable_type\"      \"started_at\"        \n",
       " [4] \"ended_at\"           \"start_station_name\" \"start_station_id\"  \n",
       " [7] \"end_station_name\"   \"end_station_id\"     \"start_lat\"         \n",
       "[10] \"start_lng\"          \"end_lat\"            \"end_lng\"           \n",
       "[13] \"member_casual\"     "
      ]
     },
     "metadata": {},
     "output_type": "display_data"
    }
   ],
   "source": [
    "# Comparing column names of each file\n",
    "colnames(apr_2020)\n",
    "colnames(may_2020)\n",
    "colnames(jun_2020)\n",
    "colnames(jul_2020)\n",
    "colnames(aug_2020)\n",
    "colnames(sep_2020)\n",
    "colnames(oct_2020)\n",
    "colnames(nov_2020)\n",
    "colnames(dec_2020)\n",
    "colnames(jan_2021)\n",
    "colnames(feb_2021)\n",
    "colnames(mar_2021)"
   ]
  },
  {
   "cell_type": "code",
   "execution_count": 4,
   "id": "edb0c92d",
   "metadata": {
    "execution": {
     "iopub.execute_input": "2021-07-17T10:14:37.524456Z",
     "iopub.status.busy": "2021-07-17T10:14:37.522961Z",
     "iopub.status.idle": "2021-07-17T10:14:37.633264Z",
     "shell.execute_reply": "2021-07-17T10:14:37.631793Z"
    },
    "papermill": {
     "duration": 0.136911,
     "end_time": "2021-07-17T10:14:37.633406",
     "exception": false,
     "start_time": "2021-07-17T10:14:37.496495",
     "status": "completed"
    },
    "tags": []
   },
   "outputs": [],
   "source": [
    "# Renaming columns to make them consistent\n",
    "\n",
    " apr_2020 <- rename(apr_2020\n",
    "                   ,trip_id = ride_id\n",
    "                   ,bike_id = rideable_type \n",
    "                   ,start_time = started_at  \n",
    "                   ,end_time = ended_at \n",
    "                   ,from_station_name = start_station_name\n",
    "                   ,from_station_id = start_station_id\n",
    "                   ,to_station_name = end_station_name\n",
    "                   ,to_station_id = end_station_id\n",
    "                   ,usertype = member_casual)\n",
    "\n",
    "may_2020 <- rename(may_2020\n",
    "                   ,trip_id = ride_id\n",
    "                   ,bike_id = rideable_type \n",
    "                   ,start_time = started_at  \n",
    "                   ,end_time = ended_at \n",
    "                   ,from_station_name = start_station_name\n",
    "                   ,from_station_id = start_station_id\n",
    "                   ,to_station_name = end_station_name\n",
    "                   ,to_station_id = end_station_id\n",
    "                   ,usertype = member_casual)\n",
    "\n",
    "jun_2020 <- rename(jun_2020\n",
    "                   ,trip_id = ride_id\n",
    "                   ,bike_id = rideable_type \n",
    "                   ,start_time = started_at  \n",
    "                   ,end_time = ended_at \n",
    "                   ,from_station_name = start_station_name\n",
    "                   ,from_station_id = start_station_id\n",
    "                   ,to_station_name = end_station_name\n",
    "                   ,to_station_id = end_station_id\n",
    "                   ,usertype = member_casual)\n",
    "jul_2020 <- rename(jul_2020\n",
    "                   ,trip_id = ride_id\n",
    "                   ,bike_id = rideable_type \n",
    "                   ,start_time = started_at  \n",
    "                   ,end_time = ended_at \n",
    "                   ,from_station_name = start_station_name\n",
    "                   ,from_station_id = start_station_id\n",
    "                   ,to_station_name = end_station_name\n",
    "                   ,to_station_id = end_station_id\n",
    "                   ,usertype = member_casual)\n",
    "\n",
    "aug_2020 <- rename(aug_2020\n",
    "                   ,trip_id = ride_id\n",
    "                   ,bike_id = rideable_type \n",
    "                   ,start_time = started_at  \n",
    "                   ,end_time = ended_at \n",
    "                   ,from_station_name = start_station_name\n",
    "                   ,from_station_id = start_station_id\n",
    "                   ,to_station_name = end_station_name\n",
    "                   ,to_station_id = end_station_id\n",
    "                   ,usertype = member_casual)\n",
    "\n",
    "sep_2020 <- rename(sep_2020\n",
    "                   ,trip_id = ride_id\n",
    "                   ,bike_id = rideable_type \n",
    "                   ,start_time = started_at  \n",
    "                   ,end_time = ended_at \n",
    "                   ,from_station_name = start_station_name\n",
    "                   ,from_station_id = start_station_id\n",
    "                   ,to_station_name = end_station_name\n",
    "                   ,to_station_id = end_station_id\n",
    "                   ,usertype = member_casual)\n",
    "\n",
    "oct_2020 <- rename(oct_2020\n",
    "                   ,trip_id = ride_id\n",
    "                   ,bike_id = rideable_type \n",
    "                   ,start_time = started_at  \n",
    "                   ,end_time = ended_at \n",
    "                   ,from_station_name = start_station_name\n",
    "                   ,from_station_id = start_station_id\n",
    "                   ,to_station_name = end_station_name\n",
    "                   ,to_station_id = end_station_id\n",
    "                   ,usertype = member_casual)\n",
    "\n",
    "nov_2020 <- rename(nov_2020\n",
    "                   ,trip_id = ride_id\n",
    "                   ,bike_id = rideable_type \n",
    "                   ,start_time = started_at  \n",
    "                   ,end_time = ended_at \n",
    "                   ,from_station_name = start_station_name\n",
    "                   ,from_station_id = start_station_id\n",
    "                   ,to_station_name = end_station_name\n",
    "                   ,to_station_id = end_station_id\n",
    "                   ,usertype = member_casual)\n",
    "\n",
    "dec_2020 <- rename(dec_2020\n",
    "                   ,trip_id = ride_id\n",
    "                   ,bike_id = rideable_type \n",
    "                   ,start_time = started_at  \n",
    "                   ,end_time = ended_at \n",
    "                   ,from_station_name = start_station_name\n",
    "                   ,from_station_id = start_station_id\n",
    "                   ,to_station_name = end_station_name\n",
    "                   ,to_station_id = end_station_id\n",
    "                   ,usertype = member_casual)\n",
    "\n",
    "jan_2021 <- rename(jan_2021\n",
    "                   ,trip_id = ride_id\n",
    "                   ,bike_id = rideable_type \n",
    "                   ,start_time = started_at  \n",
    "                   ,end_time = ended_at \n",
    "                   ,from_station_name = start_station_name\n",
    "                   ,from_station_id = start_station_id\n",
    "                   ,to_station_name = end_station_name\n",
    "                   ,to_station_id = end_station_id\n",
    "                   ,usertype = member_casual)\n",
    "\n",
    "feb_2021 <- rename(feb_2021\n",
    "                   ,trip_id = ride_id\n",
    "                   ,bike_id = rideable_type \n",
    "                   ,start_time = started_at  \n",
    "                   ,end_time = ended_at \n",
    "                   ,from_station_name = start_station_name\n",
    "                   ,from_station_id = start_station_id\n",
    "                   ,to_station_name = end_station_name\n",
    "                   ,to_station_id = end_station_id\n",
    "                   ,usertype = member_casual)\n",
    "\n",
    "mar_2021 <- rename(mar_2021\n",
    "                   ,trip_id = ride_id\n",
    "                   ,bike_id = rideable_type \n",
    "                   ,start_time = started_at  \n",
    "                   ,end_time = ended_at \n",
    "                   ,from_station_name = start_station_name\n",
    "                   ,from_station_id = start_station_id\n",
    "                   ,to_station_name = end_station_name\n",
    "                   ,to_station_id = end_station_id\n",
    "                   ,usertype = member_casual)"
   ]
  },
  {
   "cell_type": "code",
   "execution_count": 5,
   "id": "073ec671",
   "metadata": {
    "execution": {
     "iopub.execute_input": "2021-07-17T10:14:37.684388Z",
     "iopub.status.busy": "2021-07-17T10:14:37.682376Z",
     "iopub.status.idle": "2021-07-17T10:14:37.985683Z",
     "shell.execute_reply": "2021-07-17T10:14:37.983490Z"
    },
    "papermill": {
     "duration": 0.330499,
     "end_time": "2021-07-17T10:14:37.985822",
     "exception": false,
     "start_time": "2021-07-17T10:14:37.655323",
     "status": "completed"
    },
    "tags": []
   },
   "outputs": [
    {
     "name": "stdout",
     "output_type": "stream",
     "text": [
      "'data.frame':\t84776 obs. of  13 variables:\n",
      " $ trip_id          : chr  \"A847FADBBC638E45\" \"5405B80E996FF60D\" \"5DD24A79A4E006F4\" \"2A59BBDF5CDBA725\" ...\n",
      " $ bike_id          : chr  \"docked_bike\" \"docked_bike\" \"docked_bike\" \"docked_bike\" ...\n",
      " $ start_time       : chr  \"2020-04-26 17:45:14\" \"2020-04-17 17:08:54\" \"2020-04-01 17:54:13\" \"2020-04-07 12:50:19\" ...\n",
      " $ end_time         : chr  \"2020-04-26 18:12:03\" \"2020-04-17 17:17:03\" \"2020-04-01 18:08:36\" \"2020-04-07 13:02:31\" ...\n",
      " $ from_station_name: chr  \"Eckhart Park\" \"Drake Ave & Fullerton Ave\" \"McClurg Ct & Erie St\" \"California Ave & Division St\" ...\n",
      " $ from_station_id  : int  86 503 142 216 125 173 35 434 627 377 ...\n",
      " $ to_station_name  : chr  \"Lincoln Ave & Diversey Pkwy\" \"Kosciuszko Park\" \"Indiana Ave & Roosevelt Rd\" \"Wood St & Augusta Blvd\" ...\n",
      " $ to_station_id    : int  152 499 255 657 323 35 635 382 359 508 ...\n",
      " $ start_lat        : num  41.9 41.9 41.9 41.9 41.9 ...\n",
      " $ start_lng        : num  -87.7 -87.7 -87.6 -87.7 -87.6 ...\n",
      " $ end_lat          : num  41.9 41.9 41.9 41.9 42 ...\n",
      " $ end_lng          : num  -87.7 -87.7 -87.6 -87.7 -87.7 ...\n",
      " $ usertype         : chr  \"member\" \"member\" \"member\" \"member\" ...\n",
      "'data.frame':\t200274 obs. of  13 variables:\n",
      " $ trip_id          : chr  \"02668AD35674B983\" \"7A50CCAF1EDDB28F\" \"2FFCDFDB91FE9A52\" \"58991CF1DB75BA84\" ...\n",
      " $ bike_id          : chr  \"docked_bike\" \"docked_bike\" \"docked_bike\" \"docked_bike\" ...\n",
      " $ start_time       : chr  \"2020-05-27 10:03:52\" \"2020-05-25 10:47:11\" \"2020-05-02 14:11:03\" \"2020-05-02 16:25:36\" ...\n",
      " $ end_time         : chr  \"2020-05-27 10:16:49\" \"2020-05-25 11:05:40\" \"2020-05-02 15:48:21\" \"2020-05-02 16:39:28\" ...\n",
      " $ from_station_name: chr  \"Franklin St & Jackson Blvd\" \"Clark St & Wrightwood Ave\" \"Kedzie Ave & Milwaukee Ave\" \"Clarendon Ave & Leland Ave\" ...\n",
      " $ from_station_id  : int  36 340 260 251 261 206 261 180 331 219 ...\n",
      " $ to_station_name  : chr  \"Wabash Ave & Grand Ave\" \"Clark St & Leland Ave\" \"Kedzie Ave & Milwaukee Ave\" \"Lake Shore Dr & Wellington Ave\" ...\n",
      " $ to_station_id    : int  199 326 260 157 206 22 261 180 300 305 ...\n",
      " $ start_lat        : num  41.9 41.9 41.9 42 41.9 ...\n",
      " $ start_lng        : num  -87.6 -87.6 -87.7 -87.7 -87.7 ...\n",
      " $ end_lat          : num  41.9 42 41.9 41.9 41.8 ...\n",
      " $ end_lng          : num  -87.6 -87.7 -87.7 -87.6 -87.6 ...\n",
      " $ usertype         : chr  \"member\" \"casual\" \"casual\" \"casual\" ...\n",
      "'data.frame':\t343005 obs. of  13 variables:\n",
      " $ trip_id          : chr  \"8CD5DE2C2B6C4CFC\" \"9A191EB2C751D85D\" \"F37D14B0B5659BCF\" \"C41237B506E85FA1\" ...\n",
      " $ bike_id          : chr  \"docked_bike\" \"docked_bike\" \"docked_bike\" \"docked_bike\" ...\n",
      " $ start_time       : chr  \"2020-06-13 23:24:48\" \"2020-06-26 07:26:10\" \"2020-06-23 17:12:41\" \"2020-06-20 01:09:35\" ...\n",
      " $ end_time         : chr  \"2020-06-13 23:36:55\" \"2020-06-26 07:31:58\" \"2020-06-23 17:21:14\" \"2020-06-20 01:28:24\" ...\n",
      " $ from_station_name: chr  \"Wilton Ave & Belmont Ave\" \"Federal St & Polk St\" \"Daley Center Plaza\" \"Broadway & Cornelia Ave\" ...\n",
      " $ from_station_id  : int  117 41 81 303 327 327 41 115 338 84 ...\n",
      " $ to_station_name  : chr  \"Damen Ave & Clybourn Ave\" \"Daley Center Plaza\" \"State St & Harrison St\" \"Broadway & Berwyn Ave\" ...\n",
      " $ to_station_id    : int  163 81 5 294 117 117 81 303 164 53 ...\n",
      " $ start_lat        : num  41.9 41.9 41.9 41.9 41.9 ...\n",
      " $ start_lng        : num  -87.7 -87.6 -87.6 -87.6 -87.7 ...\n",
      " $ end_lat          : num  41.9 41.9 41.9 42 41.9 ...\n",
      " $ end_lng          : num  -87.7 -87.6 -87.6 -87.7 -87.7 ...\n",
      " $ usertype         : chr  \"casual\" \"member\" \"member\" \"casual\" ...\n",
      "'data.frame':\t551480 obs. of  13 variables:\n",
      " $ trip_id          : chr  \"762198876D69004D\" \"BEC9C9FBA0D4CF1B\" \"D2FD8EA432C77EC1\" \"54AE594E20B35881\" ...\n",
      " $ bike_id          : chr  \"docked_bike\" \"docked_bike\" \"docked_bike\" \"docked_bike\" ...\n",
      " $ start_time       : chr  \"2020-07-09 15:22:02\" \"2020-07-24 23:56:30\" \"2020-07-08 19:49:07\" \"2020-07-17 19:06:42\" ...\n",
      " $ end_time         : chr  \"2020-07-09 15:25:52\" \"2020-07-25 00:20:17\" \"2020-07-08 19:56:22\" \"2020-07-17 19:27:38\" ...\n",
      " $ from_station_name: chr  \"Ritchie Ct & Banks St\" \"Halsted St & Roscoe St\" \"Lake Shore Dr & Diversey Pkwy\" \"LaSalle St & Illinois St\" ...\n",
      " $ from_station_id  : int  180 299 329 181 268 635 113 211 176 31 ...\n",
      " $ to_station_name  : chr  \"Wells St & Evergreen Ave\" \"Broadway & Ridge Ave\" \"Clark St & Wellington Ave\" \"Clark St & Armitage Ave\" ...\n",
      " $ to_station_id    : int  291 461 156 94 301 289 140 31 191 142 ...\n",
      " $ start_lat        : num  41.9 41.9 41.9 41.9 41.9 ...\n",
      " $ start_lng        : num  -87.6 -87.6 -87.6 -87.6 -87.6 ...\n",
      " $ end_lat          : num  41.9 42 41.9 41.9 41.9 ...\n",
      " $ end_lng          : num  -87.6 -87.7 -87.6 -87.6 -87.6 ...\n",
      " $ usertype         : chr  \"member\" \"member\" \"casual\" \"casual\" ...\n",
      "'data.frame':\t622361 obs. of  13 variables:\n",
      " $ trip_id          : chr  \"322BD23D287743ED\" \"2A3AEF1AB9054D8B\" \"67DC1D133E8B5816\" \"C79FBBD412E578A7\" ...\n",
      " $ bike_id          : chr  \"docked_bike\" \"electric_bike\" \"electric_bike\" \"electric_bike\" ...\n",
      " $ start_time       : chr  \"2020-08-20 18:08:14\" \"2020-08-27 18:46:04\" \"2020-08-26 19:44:14\" \"2020-08-27 12:05:41\" ...\n",
      " $ end_time         : chr  \"2020-08-20 18:17:51\" \"2020-08-27 19:54:51\" \"2020-08-26 21:53:07\" \"2020-08-27 12:53:45\" ...\n",
      " $ from_station_name: chr  \"Lake Shore Dr & Diversey Pkwy\" \"Michigan Ave & 14th St\" \"Columbus Dr & Randolph St\" \"Daley Center Plaza\" ...\n",
      " $ from_station_id  : int  329 168 195 81 658 658 196 67 153 177 ...\n",
      " $ to_station_name  : chr  \"Clark St & Lincoln Ave\" \"Michigan Ave & 14th St\" \"State St & Randolph St\" \"State St & Kinzie St\" ...\n",
      " $ to_station_id    : int  141 168 44 47 658 658 49 229 225 305 ...\n",
      " $ start_lat        : num  41.9 41.9 41.9 41.9 41.9 ...\n",
      " $ start_lng        : num  -87.6 -87.6 -87.6 -87.6 -87.7 ...\n",
      " $ end_lat          : num  41.9 41.9 41.9 41.9 41.9 ...\n",
      " $ end_lng          : num  -87.6 -87.6 -87.6 -87.6 -87.7 ...\n",
      " $ usertype         : chr  \"member\" \"casual\" \"casual\" \"casual\" ...\n",
      "'data.frame':\t532958 obs. of  13 variables:\n",
      " $ trip_id          : chr  \"2B22BD5F95FB2629\" \"A7FB70B4AFC6CAF2\" \"86057FA01BAC778E\" \"57F6DC9A153DB98C\" ...\n",
      " $ bike_id          : chr  \"electric_bike\" \"electric_bike\" \"electric_bike\" \"electric_bike\" ...\n",
      " $ start_time       : chr  \"2020-09-17 14:27:11\" \"2020-09-17 15:07:31\" \"2020-09-17 15:09:04\" \"2020-09-17 18:10:46\" ...\n",
      " $ end_time         : chr  \"2020-09-17 14:44:24\" \"2020-09-17 15:07:45\" \"2020-09-17 15:09:35\" \"2020-09-17 18:35:49\" ...\n",
      " $ from_station_name: chr  \"Michigan Ave & Lake St\" \"W Oakdale Ave & N Broadway\" \"W Oakdale Ave & N Broadway\" \"Ashland Ave & Belle Plaine Ave\" ...\n",
      " $ from_station_id  : int  52 NA NA 246 24 94 291 NA NA NA ...\n",
      " $ to_station_name  : chr  \"Green St & Randolph St\" \"W Oakdale Ave & N Broadway\" \"W Oakdale Ave & N Broadway\" \"Montrose Harbor\" ...\n",
      " $ to_station_id    : int  112 NA NA 249 24 NA 256 NA NA NA ...\n",
      " $ start_lat        : num  41.9 41.9 41.9 42 41.9 ...\n",
      " $ start_lng        : num  -87.6 -87.6 -87.6 -87.7 -87.6 ...\n",
      " $ end_lat          : num  41.9 41.9 41.9 42 41.9 ...\n",
      " $ end_lng          : num  -87.6 -87.6 -87.6 -87.6 -87.6 ...\n",
      " $ usertype         : chr  \"casual\" \"casual\" \"casual\" \"casual\" ...\n",
      "'data.frame':\t388653 obs. of  13 variables:\n",
      " $ trip_id          : chr  \"ACB6B40CF5B9044C\" \"DF450C72FD109C01\" \"B6396B54A15AC0DF\" \"44A4AEE261B9E854\" ...\n",
      " $ bike_id          : chr  \"electric_bike\" \"electric_bike\" \"electric_bike\" \"electric_bike\" ...\n",
      " $ start_time       : chr  \"2020-10-31 19:39:43\" \"2020-10-31 23:50:08\" \"2020-10-31 23:00:01\" \"2020-10-31 22:16:43\" ...\n",
      " $ end_time         : chr  \"2020-10-31 19:57:12\" \"2020-11-01 00:04:16\" \"2020-10-31 23:08:22\" \"2020-10-31 22:19:35\" ...\n",
      " $ from_station_name: chr  \"Lakeview Ave & Fullerton Pkwy\" \"Southport Ave & Waveland Ave\" \"Stony Island Ave & 67th St\" \"Clark St & Grace St\" ...\n",
      " $ from_station_id  : int  313 227 102 165 190 359 313 125 NA 174 ...\n",
      " $ to_station_name  : chr  \"Rush St & Hubbard St\" \"Kedzie Ave & Milwaukee Ave\" \"University Ave & 57th St\" \"Broadway & Sheridan Rd\" ...\n",
      " $ to_station_id    : int  125 260 423 256 185 53 125 313 199 635 ...\n",
      " $ start_lat        : num  41.9 41.9 41.8 42 41.9 ...\n",
      " $ start_lng        : num  -87.6 -87.7 -87.6 -87.7 -87.7 ...\n",
      " $ end_lat          : num  41.9 41.9 41.8 42 41.9 ...\n",
      " $ end_lng          : num  -87.6 -87.7 -87.6 -87.7 -87.7 ...\n",
      " $ usertype         : chr  \"casual\" \"casual\" \"casual\" \"casual\" ...\n",
      "'data.frame':\t259716 obs. of  13 variables:\n",
      " $ trip_id          : chr  \"BD0A6FF6FFF9B921\" \"96A7A7A4BDE4F82D\" \"C61526D06582BDC5\" \"E533E89C32080B9E\" ...\n",
      " $ bike_id          : chr  \"electric_bike\" \"electric_bike\" \"electric_bike\" \"electric_bike\" ...\n",
      " $ start_time       : chr  \"2020-11-01 13:36:00\" \"2020-11-01 10:03:26\" \"2020-11-01 00:34:05\" \"2020-11-01 00:45:16\" ...\n",
      " $ end_time         : chr  \"2020-11-01 13:45:40\" \"2020-11-01 10:14:45\" \"2020-11-01 01:03:06\" \"2020-11-01 00:54:31\" ...\n",
      " $ from_station_name: chr  \"Dearborn St & Erie St\" \"Franklin St & Illinois St\" \"Lake Shore Dr & Monroe St\" \"Leavitt St & Chicago Ave\" ...\n",
      " $ from_station_id  : int  110 672 76 659 2 72 76 NA 58 394 ...\n",
      " $ to_station_name  : chr  \"St. Clair St & Erie St\" \"Noble St & Milwaukee Ave\" \"Federal St & Polk St\" \"Stave St & Armitage Ave\" ...\n",
      " $ to_station_id    : int  211 29 41 185 2 76 72 NA 288 273 ...\n",
      " $ start_lat        : num  41.9 41.9 41.9 41.9 41.9 ...\n",
      " $ start_lng        : num  -87.6 -87.6 -87.6 -87.7 -87.6 ...\n",
      " $ end_lat          : num  41.9 41.9 41.9 41.9 41.9 ...\n",
      " $ end_lng          : num  -87.6 -87.7 -87.6 -87.7 -87.6 ...\n",
      " $ usertype         : chr  \"casual\" \"casual\" \"casual\" \"casual\" ...\n",
      "'data.frame':\t131573 obs. of  13 variables:\n",
      " $ trip_id          : chr  \"70B6A9A437D4C30D\" \"158A465D4E74C54A\" \"5262016E0F1F2F9A\" \"BE119628E44F871E\" ...\n",
      " $ bike_id          : chr  \"classic_bike\" \"electric_bike\" \"electric_bike\" \"electric_bike\" ...\n",
      " $ start_time       : chr  \"2020-12-27 12:44:29\" \"2020-12-18 17:37:15\" \"2020-12-15 15:04:33\" \"2020-12-15 15:54:18\" ...\n",
      " $ end_time         : chr  \"2020-12-27 12:55:06\" \"2020-12-18 17:44:19\" \"2020-12-15 15:11:28\" \"2020-12-15 16:00:11\" ...\n",
      " $ from_station_name: chr  \"Aberdeen St & Jackson Blvd\" \"\" \"\" \"\" ...\n",
      " $ from_station_id  : chr  \"13157\" \"\" \"\" \"\" ...\n",
      " $ to_station_name  : chr  \"Desplaines St & Kinzie St\" \"\" \"\" \"\" ...\n",
      " $ to_station_id    : chr  \"TA1306000003\" \"\" \"\" \"\" ...\n",
      " $ start_lat        : num  41.9 41.9 41.9 41.9 41.8 ...\n",
      " $ start_lng        : num  -87.7 -87.7 -87.7 -87.7 -87.6 ...\n",
      " $ end_lat          : num  41.9 41.9 41.9 41.9 41.8 ...\n",
      " $ end_lng          : num  -87.6 -87.7 -87.7 -87.7 -87.6 ...\n",
      " $ usertype         : chr  \"member\" \"member\" \"member\" \"member\" ...\n",
      "'data.frame':\t96834 obs. of  13 variables:\n",
      " $ trip_id          : chr  \"E19E6F1B8D4C42ED\" \"DC88F20C2C55F27F\" \"EC45C94683FE3F27\" \"4FA453A75AE377DB\" ...\n",
      " $ bike_id          : chr  \"electric_bike\" \"electric_bike\" \"electric_bike\" \"electric_bike\" ...\n",
      " $ start_time       : chr  \"2021-01-23 16:14:19\" \"2021-01-27 18:43:08\" \"2021-01-21 22:35:54\" \"2021-01-07 13:31:13\" ...\n",
      " $ end_time         : chr  \"2021-01-23 16:24:44\" \"2021-01-27 18:47:12\" \"2021-01-21 22:37:14\" \"2021-01-07 13:42:55\" ...\n",
      " $ from_station_name: chr  \"California Ave & Cortez St\" \"California Ave & Cortez St\" \"California Ave & Cortez St\" \"California Ave & Cortez St\" ...\n",
      " $ from_station_id  : chr  \"17660\" \"17660\" \"17660\" \"17660\" ...\n",
      " $ to_station_name  : chr  \"\" \"\" \"\" \"\" ...\n",
      " $ to_station_id    : chr  \"\" \"\" \"\" \"\" ...\n",
      " $ start_lat        : num  41.9 41.9 41.9 41.9 41.9 ...\n",
      " $ start_lng        : num  -87.7 -87.7 -87.7 -87.7 -87.7 ...\n",
      " $ end_lat          : num  41.9 41.9 41.9 41.9 41.9 ...\n",
      " $ end_lng          : num  -87.7 -87.7 -87.7 -87.7 -87.7 ...\n",
      " $ usertype         : chr  \"member\" \"member\" \"member\" \"member\" ...\n",
      "'data.frame':\t49622 obs. of  13 variables:\n",
      " $ trip_id          : chr  \"89E7AA6C29227EFF\" \"0FEFDE2603568365\" \"E6159D746B2DBB91\" \"B32D3199F1C2E75B\" ...\n",
      " $ bike_id          : chr  \"classic_bike\" \"classic_bike\" \"electric_bike\" \"classic_bike\" ...\n",
      " $ start_time       : chr  \"2021-02-12 16:14:56\" \"2021-02-14 17:52:38\" \"2021-02-09 19:10:18\" \"2021-02-02 17:49:41\" ...\n",
      " $ end_time         : chr  \"2021-02-12 16:21:43\" \"2021-02-14 18:12:09\" \"2021-02-09 19:19:10\" \"2021-02-02 17:54:06\" ...\n",
      " $ from_station_name: chr  \"Glenwood Ave & Touhy Ave\" \"Glenwood Ave & Touhy Ave\" \"Clark St & Lake St\" \"Wood St & Chicago Ave\" ...\n",
      " $ from_station_id  : chr  \"525\" \"525\" \"KA1503000012\" \"637\" ...\n",
      " $ to_station_name  : chr  \"Sheridan Rd & Columbia Ave\" \"Bosworth Ave & Howard St\" \"State St & Randolph St\" \"Honore St & Division St\" ...\n",
      " $ to_station_id    : chr  \"660\" \"16806\" \"TA1305000029\" \"TA1305000034\" ...\n",
      " $ start_lat        : num  42 42 41.9 41.9 41.8 ...\n",
      " $ start_lng        : num  -87.7 -87.7 -87.6 -87.7 -87.6 ...\n",
      " $ end_lat          : num  42 42 41.9 41.9 41.8 ...\n",
      " $ end_lng          : num  -87.7 -87.7 -87.6 -87.7 -87.6 ...\n",
      " $ usertype         : chr  \"member\" \"casual\" \"member\" \"member\" ...\n",
      "'data.frame':\t228496 obs. of  13 variables:\n",
      " $ trip_id          : chr  \"CFA86D4455AA1030\" \"30D9DC61227D1AF3\" \"846D87A15682A284\" \"994D05AA75A168F2\" ...\n",
      " $ bike_id          : chr  \"classic_bike\" \"classic_bike\" \"classic_bike\" \"classic_bike\" ...\n",
      " $ start_time       : chr  \"2021-03-16 08:32:30\" \"2021-03-28 01:26:28\" \"2021-03-11 21:17:29\" \"2021-03-11 13:26:42\" ...\n",
      " $ end_time         : chr  \"2021-03-16 08:36:34\" \"2021-03-28 01:36:55\" \"2021-03-11 21:33:53\" \"2021-03-11 13:55:41\" ...\n",
      " $ from_station_name: chr  \"Humboldt Blvd & Armitage Ave\" \"Humboldt Blvd & Armitage Ave\" \"Shields Ave & 28th Pl\" \"Winthrop Ave & Lawrence Ave\" ...\n",
      " $ from_station_id  : chr  \"15651\" \"15651\" \"15443\" \"TA1308000021\" ...\n",
      " $ to_station_name  : chr  \"Stave St & Armitage Ave\" \"Central Park Ave & Bloomingdale Ave\" \"Halsted St & 35th St\" \"Broadway & Sheridan Rd\" ...\n",
      " $ to_station_id    : chr  \"13266\" \"18017\" \"TA1308000043\" \"13323\" ...\n",
      " $ start_lat        : num  41.9 41.9 41.8 42 42 ...\n",
      " $ start_lng        : num  -87.7 -87.7 -87.6 -87.7 -87.7 ...\n",
      " $ end_lat          : num  41.9 41.9 41.8 42 42.1 ...\n",
      " $ end_lng          : num  -87.7 -87.7 -87.6 -87.6 -87.7 ...\n",
      " $ usertype         : chr  \"casual\" \"casual\" \"casual\" \"casual\" ...\n"
     ]
    }
   ],
   "source": [
    "# Checking the str of the tables\n",
    "str(apr_2020)\n",
    "str(may_2020)\n",
    "str(jun_2020)\n",
    "str(jul_2020)\n",
    "str(aug_2020)\n",
    "str(sep_2020)\n",
    "str(oct_2020)\n",
    "str(nov_2020)\n",
    "str(dec_2020)\n",
    "str(jan_2021)\n",
    "str(feb_2021)\n",
    "str(mar_2021)"
   ]
  },
  {
   "cell_type": "code",
   "execution_count": 6,
   "id": "7fedb4ff",
   "metadata": {
    "execution": {
     "iopub.execute_input": "2021-07-17T10:14:38.043233Z",
     "iopub.status.busy": "2021-07-17T10:14:38.040808Z",
     "iopub.status.idle": "2021-07-17T10:14:38.128857Z",
     "shell.execute_reply": "2021-07-17T10:14:38.127088Z"
    },
    "papermill": {
     "duration": 0.118151,
     "end_time": "2021-07-17T10:14:38.129058",
     "exception": false,
     "start_time": "2021-07-17T10:14:38.010907",
     "status": "completed"
    },
    "tags": []
   },
   "outputs": [],
   "source": [
    "# Changing the datatype to char type (from_station_id, to_station_id) from int type, in order to join all the datasets.\n",
    "apr_2020 <-  mutate(apr_2020, from_station_id = as.character(from_station_id)\n",
    "                   ,to_station_id = as.character(to_station_id)) \n",
    "may_2020 <-  mutate(may_2020, from_station_id = as.character(from_station_id)\n",
    "                   ,to_station_id = as.character(to_station_id)) \n",
    "jun_2020 <-  mutate(jun_2020, from_station_id = as.character(from_station_id)\n",
    "                   ,to_station_id = as.character(to_station_id)) \n",
    "jul_2020 <-  mutate(jul_2020, from_station_id = as.character(from_station_id)\n",
    "                   ,to_station_id = as.character(to_station_id)) \n",
    "aug_2020 <-  mutate(aug_2020, from_station_id = as.character(from_station_id)\n",
    "                   ,to_station_id = as.character(to_station_id)) \n",
    "sep_2020 <-  mutate(sep_2020, from_station_id = as.character(from_station_id)\n",
    "                   ,to_station_id = as.character(to_station_id)) \n",
    "oct_2020 <-  mutate(oct_2020, from_station_id = as.character(from_station_id)\n",
    "                   ,to_station_id = as.character(to_station_id)) \n",
    "nov_2020 <-  mutate(nov_2020, from_station_id = as.character(from_station_id)\n",
    "                   ,to_station_id = as.character(to_station_id)) \n",
    "dec_2020 <-  mutate(dec_2020, from_station_id = as.character(from_station_id)\n",
    "                   ,to_station_id = as.character(to_station_id)) \n",
    "jan_2021 <-  mutate(jan_2021, from_station_id = as.character(from_station_id)\n",
    "                   ,to_station_id = as.character(to_station_id)) \n",
    "feb_2021 <-  mutate(feb_2021, from_station_id = as.character(from_station_id)\n",
    "                   ,to_station_id = as.character(to_station_id)) \n",
    "mar_2021 <-  mutate(mar_2021, from_station_id = as.character(from_station_id)\n",
    "                   ,to_station_id = as.character(to_station_id))  "
   ]
  },
  {
   "cell_type": "code",
   "execution_count": 7,
   "id": "abde2b31",
   "metadata": {
    "execution": {
     "iopub.execute_input": "2021-07-17T10:14:38.188536Z",
     "iopub.status.busy": "2021-07-17T10:14:38.186191Z",
     "iopub.status.idle": "2021-07-17T10:14:45.510468Z",
     "shell.execute_reply": "2021-07-17T10:14:45.508810Z"
    },
    "papermill": {
     "duration": 7.355937,
     "end_time": "2021-07-17T10:14:45.510663",
     "exception": false,
     "start_time": "2021-07-17T10:14:38.154726",
     "status": "completed"
    },
    "tags": []
   },
   "outputs": [],
   "source": [
    "# Binding all the datasets together\n",
    "all_trips <- bind_rows( apr_2020, may_2020, jun_2020,\n",
    "                       jul_2020, aug_2020, sep_2020, \n",
    "                       oct_2020, nov_2020, dec_2020, \n",
    "                       jan_2021, feb_2021, mar_2021)"
   ]
  },
  {
   "cell_type": "markdown",
   "id": "9c7ec62d",
   "metadata": {
    "papermill": {
     "duration": 0.024555,
     "end_time": "2021-07-17T10:14:45.560498",
     "exception": false,
     "start_time": "2021-07-17T10:14:45.535943",
     "status": "completed"
    },
    "tags": []
   },
   "source": [
    "## PHASE 3: Process\n",
    "\n",
    "**Key tasks:**\n",
    "1. **Clean and organize data**  \n",
    "   Now that we have all the data in one place we can start to clean the data of possible errors like NA. Also we will make some changes to the data adding useful new columns based on calculations of already existing columns in order to facilitate our analysis and arrive at more insightful conclusions."
   ]
  },
  {
   "cell_type": "code",
   "execution_count": 8,
   "id": "69d02c25",
   "metadata": {
    "execution": {
     "iopub.execute_input": "2021-07-17T10:14:45.615666Z",
     "iopub.status.busy": "2021-07-17T10:14:45.613920Z",
     "iopub.status.idle": "2021-07-17T10:14:45.632483Z",
     "shell.execute_reply": "2021-07-17T10:14:45.631321Z"
    },
    "papermill": {
     "duration": 0.047626,
     "end_time": "2021-07-17T10:14:45.632630",
     "exception": false,
     "start_time": "2021-07-17T10:14:45.585004",
     "status": "completed"
    },
    "tags": []
   },
   "outputs": [],
   "source": [
    "# cleaning the data to include only certain columns\n",
    "all_trips <- all_trips %>%  \n",
    "select(-c(start_lat, start_lng, end_lat, end_lng,))\n",
    "\n"
   ]
  },
  {
   "cell_type": "code",
   "execution_count": 9,
   "id": "c2c2683b",
   "metadata": {
    "execution": {
     "iopub.execute_input": "2021-07-17T10:14:45.687912Z",
     "iopub.status.busy": "2021-07-17T10:14:45.686518Z",
     "iopub.status.idle": "2021-07-17T10:14:45.774011Z",
     "shell.execute_reply": "2021-07-17T10:14:45.772534Z"
    },
    "papermill": {
     "duration": 0.116486,
     "end_time": "2021-07-17T10:14:45.774151",
     "exception": false,
     "start_time": "2021-07-17T10:14:45.657665",
     "status": "completed"
    },
    "tags": []
   },
   "outputs": [
    {
     "name": "stdout",
     "output_type": "stream",
     "text": [
      "[1] \"###column_names###\"\n"
     ]
    },
    {
     "data": {
      "text/html": [
       "<style>\n",
       ".list-inline {list-style: none; margin:0; padding: 0}\n",
       ".list-inline>li {display: inline-block}\n",
       ".list-inline>li:not(:last-child)::after {content: \"\\00b7\"; padding: 0 .5ex}\n",
       "</style>\n",
       "<ol class=list-inline><li>'trip_id'</li><li>'bike_id'</li><li>'start_time'</li><li>'end_time'</li><li>'from_station_name'</li><li>'from_station_id'</li><li>'to_station_name'</li><li>'to_station_id'</li><li>'usertype'</li></ol>\n"
      ],
      "text/latex": [
       "\\begin{enumerate*}\n",
       "\\item 'trip\\_id'\n",
       "\\item 'bike\\_id'\n",
       "\\item 'start\\_time'\n",
       "\\item 'end\\_time'\n",
       "\\item 'from\\_station\\_name'\n",
       "\\item 'from\\_station\\_id'\n",
       "\\item 'to\\_station\\_name'\n",
       "\\item 'to\\_station\\_id'\n",
       "\\item 'usertype'\n",
       "\\end{enumerate*}\n"
      ],
      "text/markdown": [
       "1. 'trip_id'\n",
       "2. 'bike_id'\n",
       "3. 'start_time'\n",
       "4. 'end_time'\n",
       "5. 'from_station_name'\n",
       "6. 'from_station_id'\n",
       "7. 'to_station_name'\n",
       "8. 'to_station_id'\n",
       "9. 'usertype'\n",
       "\n",
       "\n"
      ],
      "text/plain": [
       "[1] \"trip_id\"           \"bike_id\"           \"start_time\"       \n",
       "[4] \"end_time\"          \"from_station_name\" \"from_station_id\"  \n",
       "[7] \"to_station_name\"   \"to_station_id\"     \"usertype\"         "
      ]
     },
     "metadata": {},
     "output_type": "display_data"
    },
    {
     "name": "stdout",
     "output_type": "stream",
     "text": [
      "[1] \"Number_of_rows\"\n"
     ]
    },
    {
     "data": {
      "text/html": [
       "3489748"
      ],
      "text/latex": [
       "3489748"
      ],
      "text/markdown": [
       "3489748"
      ],
      "text/plain": [
       "[1] 3489748"
      ]
     },
     "metadata": {},
     "output_type": "display_data"
    },
    {
     "name": "stdout",
     "output_type": "stream",
     "text": [
      "[1] \"Dimension_of_table\"\n"
     ]
    },
    {
     "data": {
      "text/html": [
       "<style>\n",
       ".list-inline {list-style: none; margin:0; padding: 0}\n",
       ".list-inline>li {display: inline-block}\n",
       ".list-inline>li:not(:last-child)::after {content: \"\\00b7\"; padding: 0 .5ex}\n",
       "</style>\n",
       "<ol class=list-inline><li>3489748</li><li>9</li></ol>\n"
      ],
      "text/latex": [
       "\\begin{enumerate*}\n",
       "\\item 3489748\n",
       "\\item 9\n",
       "\\end{enumerate*}\n"
      ],
      "text/markdown": [
       "1. 3489748\n",
       "2. 9\n",
       "\n",
       "\n"
      ],
      "text/plain": [
       "[1] 3489748       9"
      ]
     },
     "metadata": {},
     "output_type": "display_data"
    },
    {
     "name": "stdout",
     "output_type": "stream",
     "text": [
      "[1] \"first_6_rows\"\n"
     ]
    },
    {
     "data": {
      "text/html": [
       "<table class=\"dataframe\">\n",
       "<caption>A data.frame: 6 × 9</caption>\n",
       "<thead>\n",
       "\t<tr><th></th><th scope=col>trip_id</th><th scope=col>bike_id</th><th scope=col>start_time</th><th scope=col>end_time</th><th scope=col>from_station_name</th><th scope=col>from_station_id</th><th scope=col>to_station_name</th><th scope=col>to_station_id</th><th scope=col>usertype</th></tr>\n",
       "\t<tr><th></th><th scope=col>&lt;chr&gt;</th><th scope=col>&lt;chr&gt;</th><th scope=col>&lt;chr&gt;</th><th scope=col>&lt;chr&gt;</th><th scope=col>&lt;chr&gt;</th><th scope=col>&lt;chr&gt;</th><th scope=col>&lt;chr&gt;</th><th scope=col>&lt;chr&gt;</th><th scope=col>&lt;chr&gt;</th></tr>\n",
       "</thead>\n",
       "<tbody>\n",
       "\t<tr><th scope=row>1</th><td>A847FADBBC638E45</td><td>docked_bike</td><td>2020-04-26 17:45:14</td><td>2020-04-26 18:12:03</td><td><span style=white-space:pre-wrap>Eckhart Park                       </span></td><td>86 </td><td>Lincoln Ave &amp; Diversey Pkwy</td><td>152</td><td>member</td></tr>\n",
       "\t<tr><th scope=row>2</th><td>5405B80E996FF60D</td><td>docked_bike</td><td>2020-04-17 17:08:54</td><td>2020-04-17 17:17:03</td><td><span style=white-space:pre-wrap>Drake Ave &amp; Fullerton Ave          </span></td><td>503</td><td><span style=white-space:pre-wrap>Kosciuszko Park            </span></td><td>499</td><td>member</td></tr>\n",
       "\t<tr><th scope=row>3</th><td>5DD24A79A4E006F4</td><td>docked_bike</td><td>2020-04-01 17:54:13</td><td>2020-04-01 18:08:36</td><td><span style=white-space:pre-wrap>McClurg Ct &amp; Erie St               </span></td><td>142</td><td>Indiana Ave &amp; Roosevelt Rd </td><td>255</td><td>member</td></tr>\n",
       "\t<tr><th scope=row>4</th><td>2A59BBDF5CDBA725</td><td>docked_bike</td><td>2020-04-07 12:50:19</td><td>2020-04-07 13:02:31</td><td><span style=white-space:pre-wrap>California Ave &amp; Division St       </span></td><td>216</td><td><span style=white-space:pre-wrap>Wood St &amp; Augusta Blvd     </span></td><td>657</td><td>member</td></tr>\n",
       "\t<tr><th scope=row>5</th><td>27AD306C119C6158</td><td>docked_bike</td><td>2020-04-18 10:22:59</td><td>2020-04-18 11:15:54</td><td><span style=white-space:pre-wrap>Rush St &amp; Hubbard St               </span></td><td>125</td><td>Sheridan Rd &amp; Lawrence Ave </td><td>323</td><td>casual</td></tr>\n",
       "\t<tr><th scope=row>6</th><td>356216E875132F61</td><td>docked_bike</td><td>2020-04-30 17:55:47</td><td>2020-04-30 18:01:11</td><td>Mies van der Rohe Way &amp; Chicago Ave</td><td>173</td><td><span style=white-space:pre-wrap>Streeter Dr &amp; Grand Ave    </span></td><td>35 </td><td>member</td></tr>\n",
       "</tbody>\n",
       "</table>\n"
      ],
      "text/latex": [
       "A data.frame: 6 × 9\n",
       "\\begin{tabular}{r|lllllllll}\n",
       "  & trip\\_id & bike\\_id & start\\_time & end\\_time & from\\_station\\_name & from\\_station\\_id & to\\_station\\_name & to\\_station\\_id & usertype\\\\\n",
       "  & <chr> & <chr> & <chr> & <chr> & <chr> & <chr> & <chr> & <chr> & <chr>\\\\\n",
       "\\hline\n",
       "\t1 & A847FADBBC638E45 & docked\\_bike & 2020-04-26 17:45:14 & 2020-04-26 18:12:03 & Eckhart Park                        & 86  & Lincoln Ave \\& Diversey Pkwy & 152 & member\\\\\n",
       "\t2 & 5405B80E996FF60D & docked\\_bike & 2020-04-17 17:08:54 & 2020-04-17 17:17:03 & Drake Ave \\& Fullerton Ave           & 503 & Kosciuszko Park             & 499 & member\\\\\n",
       "\t3 & 5DD24A79A4E006F4 & docked\\_bike & 2020-04-01 17:54:13 & 2020-04-01 18:08:36 & McClurg Ct \\& Erie St                & 142 & Indiana Ave \\& Roosevelt Rd  & 255 & member\\\\\n",
       "\t4 & 2A59BBDF5CDBA725 & docked\\_bike & 2020-04-07 12:50:19 & 2020-04-07 13:02:31 & California Ave \\& Division St        & 216 & Wood St \\& Augusta Blvd      & 657 & member\\\\\n",
       "\t5 & 27AD306C119C6158 & docked\\_bike & 2020-04-18 10:22:59 & 2020-04-18 11:15:54 & Rush St \\& Hubbard St                & 125 & Sheridan Rd \\& Lawrence Ave  & 323 & casual\\\\\n",
       "\t6 & 356216E875132F61 & docked\\_bike & 2020-04-30 17:55:47 & 2020-04-30 18:01:11 & Mies van der Rohe Way \\& Chicago Ave & 173 & Streeter Dr \\& Grand Ave     & 35  & member\\\\\n",
       "\\end{tabular}\n"
      ],
      "text/markdown": [
       "\n",
       "A data.frame: 6 × 9\n",
       "\n",
       "| <!--/--> | trip_id &lt;chr&gt; | bike_id &lt;chr&gt; | start_time &lt;chr&gt; | end_time &lt;chr&gt; | from_station_name &lt;chr&gt; | from_station_id &lt;chr&gt; | to_station_name &lt;chr&gt; | to_station_id &lt;chr&gt; | usertype &lt;chr&gt; |\n",
       "|---|---|---|---|---|---|---|---|---|---|\n",
       "| 1 | A847FADBBC638E45 | docked_bike | 2020-04-26 17:45:14 | 2020-04-26 18:12:03 | Eckhart Park                        | 86  | Lincoln Ave &amp; Diversey Pkwy | 152 | member |\n",
       "| 2 | 5405B80E996FF60D | docked_bike | 2020-04-17 17:08:54 | 2020-04-17 17:17:03 | Drake Ave &amp; Fullerton Ave           | 503 | Kosciuszko Park             | 499 | member |\n",
       "| 3 | 5DD24A79A4E006F4 | docked_bike | 2020-04-01 17:54:13 | 2020-04-01 18:08:36 | McClurg Ct &amp; Erie St                | 142 | Indiana Ave &amp; Roosevelt Rd  | 255 | member |\n",
       "| 4 | 2A59BBDF5CDBA725 | docked_bike | 2020-04-07 12:50:19 | 2020-04-07 13:02:31 | California Ave &amp; Division St        | 216 | Wood St &amp; Augusta Blvd      | 657 | member |\n",
       "| 5 | 27AD306C119C6158 | docked_bike | 2020-04-18 10:22:59 | 2020-04-18 11:15:54 | Rush St &amp; Hubbard St                | 125 | Sheridan Rd &amp; Lawrence Ave  | 323 | casual |\n",
       "| 6 | 356216E875132F61 | docked_bike | 2020-04-30 17:55:47 | 2020-04-30 18:01:11 | Mies van der Rohe Way &amp; Chicago Ave | 173 | Streeter Dr &amp; Grand Ave     | 35  | member |\n",
       "\n"
      ],
      "text/plain": [
       "  trip_id          bike_id     start_time          end_time           \n",
       "1 A847FADBBC638E45 docked_bike 2020-04-26 17:45:14 2020-04-26 18:12:03\n",
       "2 5405B80E996FF60D docked_bike 2020-04-17 17:08:54 2020-04-17 17:17:03\n",
       "3 5DD24A79A4E006F4 docked_bike 2020-04-01 17:54:13 2020-04-01 18:08:36\n",
       "4 2A59BBDF5CDBA725 docked_bike 2020-04-07 12:50:19 2020-04-07 13:02:31\n",
       "5 27AD306C119C6158 docked_bike 2020-04-18 10:22:59 2020-04-18 11:15:54\n",
       "6 356216E875132F61 docked_bike 2020-04-30 17:55:47 2020-04-30 18:01:11\n",
       "  from_station_name                   from_station_id\n",
       "1 Eckhart Park                        86             \n",
       "2 Drake Ave & Fullerton Ave           503            \n",
       "3 McClurg Ct & Erie St                142            \n",
       "4 California Ave & Division St        216            \n",
       "5 Rush St & Hubbard St                125            \n",
       "6 Mies van der Rohe Way & Chicago Ave 173            \n",
       "  to_station_name             to_station_id usertype\n",
       "1 Lincoln Ave & Diversey Pkwy 152           member  \n",
       "2 Kosciuszko Park             499           member  \n",
       "3 Indiana Ave & Roosevelt Rd  255           member  \n",
       "4 Wood St & Augusta Blvd      657           member  \n",
       "5 Sheridan Rd & Lawrence Ave  323           casual  \n",
       "6 Streeter Dr & Grand Ave     35            member  "
      ]
     },
     "metadata": {},
     "output_type": "display_data"
    },
    {
     "name": "stdout",
     "output_type": "stream",
     "text": [
      "[1] \"structure_of_table\"\n",
      "'data.frame':\t3489748 obs. of  9 variables:\n",
      " $ trip_id          : chr  \"A847FADBBC638E45\" \"5405B80E996FF60D\" \"5DD24A79A4E006F4\" \"2A59BBDF5CDBA725\" ...\n",
      " $ bike_id          : chr  \"docked_bike\" \"docked_bike\" \"docked_bike\" \"docked_bike\" ...\n",
      " $ start_time       : chr  \"2020-04-26 17:45:14\" \"2020-04-17 17:08:54\" \"2020-04-01 17:54:13\" \"2020-04-07 12:50:19\" ...\n",
      " $ end_time         : chr  \"2020-04-26 18:12:03\" \"2020-04-17 17:17:03\" \"2020-04-01 18:08:36\" \"2020-04-07 13:02:31\" ...\n",
      " $ from_station_name: chr  \"Eckhart Park\" \"Drake Ave & Fullerton Ave\" \"McClurg Ct & Erie St\" \"California Ave & Division St\" ...\n",
      " $ from_station_id  : chr  \"86\" \"503\" \"142\" \"216\" ...\n",
      " $ to_station_name  : chr  \"Lincoln Ave & Diversey Pkwy\" \"Kosciuszko Park\" \"Indiana Ave & Roosevelt Rd\" \"Wood St & Augusta Blvd\" ...\n",
      " $ to_station_id    : chr  \"152\" \"499\" \"255\" \"657\" ...\n",
      " $ usertype         : chr  \"member\" \"member\" \"member\" \"member\" ...\n",
      "[1] \"summary\"\n"
     ]
    },
    {
     "data": {
      "text/plain": [
       "   trip_id            bike_id           start_time          end_time        \n",
       " Length:3489748     Length:3489748     Length:3489748     Length:3489748    \n",
       " Class :character   Class :character   Class :character   Class :character  \n",
       " Mode  :character   Mode  :character   Mode  :character   Mode  :character  \n",
       " from_station_name  from_station_id    to_station_name    to_station_id     \n",
       " Length:3489748     Length:3489748     Length:3489748     Length:3489748    \n",
       " Class :character   Class :character   Class :character   Class :character  \n",
       " Mode  :character   Mode  :character   Mode  :character   Mode  :character  \n",
       "   usertype        \n",
       " Length:3489748    \n",
       " Class :character  \n",
       " Mode  :character  "
      ]
     },
     "metadata": {},
     "output_type": "display_data"
    }
   ],
   "source": [
    "# Inspecting the new table\n",
    "print(\"###column_names###\")\n",
    "colnames(all_trips)\n",
    "print(\"Number_of_rows\")\n",
    "nrow(all_trips)\n",
    "print(\"Dimension_of_table\")\n",
    "dim(all_trips)\n",
    "print(\"first_6_rows\")\n",
    "head(all_trips)\n",
    "print(\"structure_of_table\")\n",
    "str(all_trips)\n",
    "print(\"summary\")\n",
    "summary(all_trips)"
   ]
  },
  {
   "cell_type": "code",
   "execution_count": 10,
   "id": "2563f5a0",
   "metadata": {
    "execution": {
     "iopub.execute_input": "2021-07-17T10:14:45.837232Z",
     "iopub.status.busy": "2021-07-17T10:14:45.835422Z",
     "iopub.status.idle": "2021-07-17T10:14:46.885086Z",
     "shell.execute_reply": "2021-07-17T10:14:46.883359Z"
    },
    "papermill": {
     "duration": 1.082304,
     "end_time": "2021-07-17T10:14:46.885245",
     "exception": false,
     "start_time": "2021-07-17T10:14:45.802941",
     "status": "completed"
    },
    "tags": []
   },
   "outputs": [],
   "source": [
    "# Reassign to the desired values i.e, only two types of users are needed (member, casual)\n",
    "all_trips <-  all_trips %>% \n",
    "  mutate(usertype = recode(usertype\n",
    "                           ,\"Subscriber\" = \"member\"\n",
    "                           ,\"Customer\" = \"casual\"))"
   ]
  },
  {
   "cell_type": "code",
   "execution_count": 11,
   "id": "53daae72",
   "metadata": {
    "execution": {
     "iopub.execute_input": "2021-07-17T10:14:46.948369Z",
     "iopub.status.busy": "2021-07-17T10:14:46.946902Z",
     "iopub.status.idle": "2021-07-17T10:14:47.764731Z",
     "shell.execute_reply": "2021-07-17T10:14:47.763308Z"
    },
    "papermill": {
     "duration": 0.850588,
     "end_time": "2021-07-17T10:14:47.764906",
     "exception": false,
     "start_time": "2021-07-17T10:14:46.914318",
     "status": "completed"
    },
    "tags": []
   },
   "outputs": [
    {
     "data": {
      "text/plain": [
       "\n",
       " casual  member \n",
       "1430376 2059372 "
      ]
     },
     "metadata": {},
     "output_type": "display_data"
    }
   ],
   "source": [
    "# Check the number of each usertype in the table all_trips\n",
    "table(all_trips$usertype)"
   ]
  },
  {
   "cell_type": "code",
   "execution_count": 12,
   "id": "c4478ad7",
   "metadata": {
    "execution": {
     "iopub.execute_input": "2021-07-17T10:14:47.828836Z",
     "iopub.status.busy": "2021-07-17T10:14:47.827442Z",
     "iopub.status.idle": "2021-07-17T10:14:52.051780Z",
     "shell.execute_reply": "2021-07-17T10:14:52.050499Z"
    },
    "papermill": {
     "duration": 4.257564,
     "end_time": "2021-07-17T10:14:52.052009",
     "exception": false,
     "start_time": "2021-07-17T10:14:47.794445",
     "status": "completed"
    },
    "tags": []
   },
   "outputs": [],
   "source": [
    "# Drop all NA values\n",
    "all_trips <- drop_na(all_trips)"
   ]
  },
  {
   "cell_type": "code",
   "execution_count": 13,
   "id": "1d43bd31",
   "metadata": {
    "execution": {
     "iopub.execute_input": "2021-07-17T10:14:52.116233Z",
     "iopub.status.busy": "2021-07-17T10:14:52.114897Z",
     "iopub.status.idle": "2021-07-17T10:15:29.337180Z",
     "shell.execute_reply": "2021-07-17T10:15:29.335851Z"
    },
    "papermill": {
     "duration": 37.255741,
     "end_time": "2021-07-17T10:15:29.337331",
     "exception": false,
     "start_time": "2021-07-17T10:14:52.081590",
     "status": "completed"
    },
    "tags": []
   },
   "outputs": [
    {
     "data": {
      "text/html": [
       "FALSE"
      ],
      "text/latex": [
       "FALSE"
      ],
      "text/markdown": [
       "FALSE"
      ],
      "text/plain": [
       "[1] FALSE"
      ]
     },
     "metadata": {},
     "output_type": "display_data"
    },
    {
     "data": {
      "text/html": [
       "TRUE"
      ],
      "text/latex": [
       "TRUE"
      ],
      "text/markdown": [
       "TRUE"
      ],
      "text/plain": [
       "[1] TRUE"
      ]
     },
     "metadata": {},
     "output_type": "display_data"
    }
   ],
   "source": [
    "# separating the date in year, month, day of the week\n",
    "all_trips$date <- as.Date(all_trips$start_time) \n",
    "all_trips$month <- format(as.Date(all_trips$date), \"%m\")\n",
    "all_trips$day <- format(as.Date(all_trips$date), \"%d\")\n",
    "all_trips$year <- format(as.Date(all_trips$date), \"%Y\")\n",
    "all_trips$day_of_week <- format(as.Date(all_trips$date), \"%A\")\n",
    "\n",
    "# Adding new columns to the table such as duration of the ride, speed and distance travelled\n",
    "\n",
    "# First, ride length in seconds\n",
    "all_trips$ride_length <- difftime(all_trips$end_time,all_trips$start_time)\n",
    "\n",
    "#Second, convert ride_length into numeric\n",
    "is.factor(all_trips$ride_length)\n",
    "all_trips$ride_length <- as.numeric(as.character(all_trips$ride_length))\n",
    "is.numeric(all_trips$ride_length)"
   ]
  },
  {
   "cell_type": "code",
   "execution_count": 14,
   "id": "b095372c",
   "metadata": {
    "execution": {
     "iopub.execute_input": "2021-07-17T10:15:29.404253Z",
     "iopub.status.busy": "2021-07-17T10:15:29.402332Z",
     "iopub.status.idle": "2021-07-17T10:15:29.441228Z",
     "shell.execute_reply": "2021-07-17T10:15:29.439550Z"
    },
    "papermill": {
     "duration": 0.073424,
     "end_time": "2021-07-17T10:15:29.441375",
     "exception": false,
     "start_time": "2021-07-17T10:15:29.367951",
     "status": "completed"
    },
    "tags": []
   },
   "outputs": [
    {
     "name": "stdout",
     "output_type": "stream",
     "text": [
      "'data.frame':\t3355109 obs. of  15 variables:\n",
      " $ trip_id          : chr  \"A847FADBBC638E45\" \"5405B80E996FF60D\" \"5DD24A79A4E006F4\" \"2A59BBDF5CDBA725\" ...\n",
      " $ bike_id          : chr  \"docked_bike\" \"docked_bike\" \"docked_bike\" \"docked_bike\" ...\n",
      " $ start_time       : chr  \"2020-04-26 17:45:14\" \"2020-04-17 17:08:54\" \"2020-04-01 17:54:13\" \"2020-04-07 12:50:19\" ...\n",
      " $ end_time         : chr  \"2020-04-26 18:12:03\" \"2020-04-17 17:17:03\" \"2020-04-01 18:08:36\" \"2020-04-07 13:02:31\" ...\n",
      " $ from_station_name: chr  \"Eckhart Park\" \"Drake Ave & Fullerton Ave\" \"McClurg Ct & Erie St\" \"California Ave & Division St\" ...\n",
      " $ from_station_id  : chr  \"86\" \"503\" \"142\" \"216\" ...\n",
      " $ to_station_name  : chr  \"Lincoln Ave & Diversey Pkwy\" \"Kosciuszko Park\" \"Indiana Ave & Roosevelt Rd\" \"Wood St & Augusta Blvd\" ...\n",
      " $ to_station_id    : chr  \"152\" \"499\" \"255\" \"657\" ...\n",
      " $ usertype         : chr  \"member\" \"member\" \"member\" \"member\" ...\n",
      " $ date             : Date, format: \"2020-04-26\" \"2020-04-17\" ...\n",
      " $ month            : chr  \"04\" \"04\" \"04\" \"04\" ...\n",
      " $ day              : chr  \"26\" \"17\" \"01\" \"07\" ...\n",
      " $ year             : chr  \"2020\" \"2020\" \"2020\" \"2020\" ...\n",
      " $ day_of_week      : chr  \"Sunday\" \"Friday\" \"Wednesday\" \"Tuesday\" ...\n",
      " $ ride_length      : num  1609 489 863 732 3175 ...\n"
     ]
    }
   ],
   "source": [
    "# Inspect the structure of the columns\n",
    "str(all_trips)"
   ]
  },
  {
   "cell_type": "code",
   "execution_count": 15,
   "id": "4d7cd65f",
   "metadata": {
    "execution": {
     "iopub.execute_input": "2021-07-17T10:15:29.506590Z",
     "iopub.status.busy": "2021-07-17T10:15:29.505275Z",
     "iopub.status.idle": "2021-07-17T10:15:32.165217Z",
     "shell.execute_reply": "2021-07-17T10:15:32.163594Z"
    },
    "papermill": {
     "duration": 2.693935,
     "end_time": "2021-07-17T10:15:32.165362",
     "exception": false,
     "start_time": "2021-07-17T10:15:29.471427",
     "status": "completed"
    },
    "tags": []
   },
   "outputs": [],
   "source": [
    "# The dataframe includes a few hundred entries when bikes were taken out of docks and checked for quality by Divvy or ride_length was negative:\n",
    "\n",
    "all_trips_v2 <- all_trips[!(all_trips$from_station_name == \"HQ QR\" | all_trips$ride_length<0),]"
   ]
  },
  {
   "cell_type": "markdown",
   "id": "2d4a641e",
   "metadata": {
    "papermill": {
     "duration": 0.030156,
     "end_time": "2021-07-17T10:15:32.225671",
     "exception": false,
     "start_time": "2021-07-17T10:15:32.195515",
     "status": "completed"
    },
    "tags": []
   },
   "source": [
    "## PHASE 4: Analyze\n",
    "**Key tasks:**\n",
    "1. **Perform calculations**\n",
    "\n",
    "   Conduct descriptive analysis to better understand the data by performing calculations like; mean, median, max, min.\n",
    "\n",
    "2. **Identify trends and relationships**\n",
    "\n",
    "   complete the dataset with all the information and identify the key differences between the casusal and member riders.\n"
   ]
  },
  {
   "cell_type": "code",
   "execution_count": 16,
   "id": "11b79c4a",
   "metadata": {
    "execution": {
     "iopub.execute_input": "2021-07-17T10:15:32.290986Z",
     "iopub.status.busy": "2021-07-17T10:15:32.289604Z",
     "iopub.status.idle": "2021-07-17T10:15:32.631613Z",
     "shell.execute_reply": "2021-07-17T10:15:32.630333Z"
    },
    "papermill": {
     "duration": 0.376266,
     "end_time": "2021-07-17T10:15:32.631780",
     "exception": false,
     "start_time": "2021-07-17T10:15:32.255514",
     "status": "completed"
    },
    "tags": []
   },
   "outputs": [
    {
     "name": "stdout",
     "output_type": "stream",
     "text": [
      "[1] \"mean\"\n"
     ]
    },
    {
     "data": {
      "text/html": [
       "1678.01052804993"
      ],
      "text/latex": [
       "1678.01052804993"
      ],
      "text/markdown": [
       "1678.01052804993"
      ],
      "text/plain": [
       "[1] 1678.011"
      ]
     },
     "metadata": {},
     "output_type": "display_data"
    },
    {
     "name": "stdout",
     "output_type": "stream",
     "text": [
      "[1] \"median\"\n"
     ]
    },
    {
     "data": {
      "text/html": [
       "880"
      ],
      "text/latex": [
       "880"
      ],
      "text/markdown": [
       "880"
      ],
      "text/plain": [
       "[1] 880"
      ]
     },
     "metadata": {},
     "output_type": "display_data"
    },
    {
     "name": "stdout",
     "output_type": "stream",
     "text": [
      "[1] \"max\"\n"
     ]
    },
    {
     "data": {
      "text/html": [
       "3523202"
      ],
      "text/latex": [
       "3523202"
      ],
      "text/markdown": [
       "3523202"
      ],
      "text/plain": [
       "[1] 3523202"
      ]
     },
     "metadata": {},
     "output_type": "display_data"
    },
    {
     "name": "stdout",
     "output_type": "stream",
     "text": [
      "[1] \"min\"\n"
     ]
    },
    {
     "data": {
      "text/html": [
       "0"
      ],
      "text/latex": [
       "0"
      ],
      "text/markdown": [
       "0"
      ],
      "text/plain": [
       "[1] 0"
      ]
     },
     "metadata": {},
     "output_type": "display_data"
    },
    {
     "name": "stdout",
     "output_type": "stream",
     "text": [
      "[1] \"SUMMARY\"\n"
     ]
    },
    {
     "data": {
      "text/plain": [
       "   Min. 1st Qu.  Median    Mean 3rd Qu.    Max. \n",
       "      0     481     880    1678    1607 3523202 "
      ]
     },
     "metadata": {},
     "output_type": "display_data"
    }
   ],
   "source": [
    "# Descriptive analysis on ride_length (all figures in seconds)\n",
    "\n",
    "print(\"mean\") \n",
    "mean(all_trips_v2$ride_length)\n",
    "print(\"median\") \n",
    "median(all_trips_v2$ride_length)\n",
    "print(\"max\") \n",
    "max(all_trips_v2$ride_length)\n",
    "print(\"min\") \n",
    "min(all_trips_v2$ride_length)\n",
    "\n",
    "# condense the four lines above to one line using summary() on the specific attribute\n",
    "\n",
    "print(\"SUMMARY\")\n",
    "summary(all_trips_v2$ride_length)"
   ]
  },
  {
   "cell_type": "code",
   "execution_count": 17,
   "id": "7a969df9",
   "metadata": {
    "execution": {
     "iopub.execute_input": "2021-07-17T10:15:32.704473Z",
     "iopub.status.busy": "2021-07-17T10:15:32.702620Z",
     "iopub.status.idle": "2021-07-17T10:15:44.702378Z",
     "shell.execute_reply": "2021-07-17T10:15:44.701049Z"
    },
    "papermill": {
     "duration": 12.037308,
     "end_time": "2021-07-17T10:15:44.702561",
     "exception": false,
     "start_time": "2021-07-17T10:15:32.665253",
     "status": "completed"
    },
    "tags": []
   },
   "outputs": [
    {
     "data": {
      "text/html": [
       "<table class=\"dataframe\">\n",
       "<caption>A data.frame: 2 × 2</caption>\n",
       "<thead>\n",
       "\t<tr><th scope=col>all_trips_v2$usertype</th><th scope=col>all_trips_v2$ride_length</th></tr>\n",
       "\t<tr><th scope=col>&lt;chr&gt;</th><th scope=col>&lt;dbl&gt;</th></tr>\n",
       "</thead>\n",
       "<tbody>\n",
       "\t<tr><td>casual</td><td>2715.7607</td></tr>\n",
       "\t<tr><td>member</td><td> 960.7953</td></tr>\n",
       "</tbody>\n",
       "</table>\n"
      ],
      "text/latex": [
       "A data.frame: 2 × 2\n",
       "\\begin{tabular}{ll}\n",
       " all\\_trips\\_v2\\$usertype & all\\_trips\\_v2\\$ride\\_length\\\\\n",
       " <chr> & <dbl>\\\\\n",
       "\\hline\n",
       "\t casual & 2715.7607\\\\\n",
       "\t member &  960.7953\\\\\n",
       "\\end{tabular}\n"
      ],
      "text/markdown": [
       "\n",
       "A data.frame: 2 × 2\n",
       "\n",
       "| all_trips_v2$usertype &lt;chr&gt; | all_trips_v2$ride_length &lt;dbl&gt; |\n",
       "|---|---|\n",
       "| casual | 2715.7607 |\n",
       "| member |  960.7953 |\n",
       "\n"
      ],
      "text/plain": [
       "  all_trips_v2$usertype all_trips_v2$ride_length\n",
       "1 casual                2715.7607               \n",
       "2 member                 960.7953               "
      ]
     },
     "metadata": {},
     "output_type": "display_data"
    },
    {
     "data": {
      "text/html": [
       "<table class=\"dataframe\">\n",
       "<caption>A data.frame: 2 × 2</caption>\n",
       "<thead>\n",
       "\t<tr><th scope=col>all_trips_v2$usertype</th><th scope=col>all_trips_v2$ride_length</th></tr>\n",
       "\t<tr><th scope=col>&lt;chr&gt;</th><th scope=col>&lt;dbl&gt;</th></tr>\n",
       "</thead>\n",
       "<tbody>\n",
       "\t<tr><td>casual</td><td>1289</td></tr>\n",
       "\t<tr><td>member</td><td> 692</td></tr>\n",
       "</tbody>\n",
       "</table>\n"
      ],
      "text/latex": [
       "A data.frame: 2 × 2\n",
       "\\begin{tabular}{ll}\n",
       " all\\_trips\\_v2\\$usertype & all\\_trips\\_v2\\$ride\\_length\\\\\n",
       " <chr> & <dbl>\\\\\n",
       "\\hline\n",
       "\t casual & 1289\\\\\n",
       "\t member &  692\\\\\n",
       "\\end{tabular}\n"
      ],
      "text/markdown": [
       "\n",
       "A data.frame: 2 × 2\n",
       "\n",
       "| all_trips_v2$usertype &lt;chr&gt; | all_trips_v2$ride_length &lt;dbl&gt; |\n",
       "|---|---|\n",
       "| casual | 1289 |\n",
       "| member |  692 |\n",
       "\n"
      ],
      "text/plain": [
       "  all_trips_v2$usertype all_trips_v2$ride_length\n",
       "1 casual                1289                    \n",
       "2 member                 692                    "
      ]
     },
     "metadata": {},
     "output_type": "display_data"
    },
    {
     "data": {
      "text/html": [
       "<table class=\"dataframe\">\n",
       "<caption>A data.frame: 2 × 2</caption>\n",
       "<thead>\n",
       "\t<tr><th scope=col>all_trips_v2$usertype</th><th scope=col>all_trips_v2$ride_length</th></tr>\n",
       "\t<tr><th scope=col>&lt;chr&gt;</th><th scope=col>&lt;dbl&gt;</th></tr>\n",
       "</thead>\n",
       "<tbody>\n",
       "\t<tr><td>casual</td><td>3341033</td></tr>\n",
       "\t<tr><td>member</td><td>3523202</td></tr>\n",
       "</tbody>\n",
       "</table>\n"
      ],
      "text/latex": [
       "A data.frame: 2 × 2\n",
       "\\begin{tabular}{ll}\n",
       " all\\_trips\\_v2\\$usertype & all\\_trips\\_v2\\$ride\\_length\\\\\n",
       " <chr> & <dbl>\\\\\n",
       "\\hline\n",
       "\t casual & 3341033\\\\\n",
       "\t member & 3523202\\\\\n",
       "\\end{tabular}\n"
      ],
      "text/markdown": [
       "\n",
       "A data.frame: 2 × 2\n",
       "\n",
       "| all_trips_v2$usertype &lt;chr&gt; | all_trips_v2$ride_length &lt;dbl&gt; |\n",
       "|---|---|\n",
       "| casual | 3341033 |\n",
       "| member | 3523202 |\n",
       "\n"
      ],
      "text/plain": [
       "  all_trips_v2$usertype all_trips_v2$ride_length\n",
       "1 casual                3341033                 \n",
       "2 member                3523202                 "
      ]
     },
     "metadata": {},
     "output_type": "display_data"
    },
    {
     "data": {
      "text/html": [
       "<table class=\"dataframe\">\n",
       "<caption>A data.frame: 2 × 2</caption>\n",
       "<thead>\n",
       "\t<tr><th scope=col>all_trips_v2$usertype</th><th scope=col>all_trips_v2$ride_length</th></tr>\n",
       "\t<tr><th scope=col>&lt;chr&gt;</th><th scope=col>&lt;dbl&gt;</th></tr>\n",
       "</thead>\n",
       "<tbody>\n",
       "\t<tr><td>casual</td><td>0</td></tr>\n",
       "\t<tr><td>member</td><td>0</td></tr>\n",
       "</tbody>\n",
       "</table>\n"
      ],
      "text/latex": [
       "A data.frame: 2 × 2\n",
       "\\begin{tabular}{ll}\n",
       " all\\_trips\\_v2\\$usertype & all\\_trips\\_v2\\$ride\\_length\\\\\n",
       " <chr> & <dbl>\\\\\n",
       "\\hline\n",
       "\t casual & 0\\\\\n",
       "\t member & 0\\\\\n",
       "\\end{tabular}\n"
      ],
      "text/markdown": [
       "\n",
       "A data.frame: 2 × 2\n",
       "\n",
       "| all_trips_v2$usertype &lt;chr&gt; | all_trips_v2$ride_length &lt;dbl&gt; |\n",
       "|---|---|\n",
       "| casual | 0 |\n",
       "| member | 0 |\n",
       "\n"
      ],
      "text/plain": [
       "  all_trips_v2$usertype all_trips_v2$ride_length\n",
       "1 casual                0                       \n",
       "2 member                0                       "
      ]
     },
     "metadata": {},
     "output_type": "display_data"
    }
   ],
   "source": [
    "# agrregate all_trips ride_length data based on usertype\n",
    "aggregate(all_trips_v2$ride_length ~ all_trips_v2$usertype, FUN = mean)\n",
    "aggregate(all_trips_v2$ride_length ~ all_trips_v2$usertype, FUN = median)\n",
    "aggregate(all_trips_v2$ride_length ~ all_trips_v2$usertype, FUN = max)\n",
    "aggregate(all_trips_v2$ride_length ~ all_trips_v2$usertype, FUN = min)\n"
   ]
  },
  {
   "cell_type": "code",
   "execution_count": 18,
   "id": "e976de02",
   "metadata": {
    "execution": {
     "iopub.execute_input": "2021-07-17T10:15:44.778231Z",
     "iopub.status.busy": "2021-07-17T10:15:44.776951Z",
     "iopub.status.idle": "2021-07-17T10:15:47.861235Z",
     "shell.execute_reply": "2021-07-17T10:15:47.859984Z"
    },
    "papermill": {
     "duration": 3.123347,
     "end_time": "2021-07-17T10:15:47.861441",
     "exception": false,
     "start_time": "2021-07-17T10:15:44.738094",
     "status": "completed"
    },
    "tags": []
   },
   "outputs": [
    {
     "data": {
      "text/html": [
       "<table class=\"dataframe\">\n",
       "<caption>A data.frame: 14 × 3</caption>\n",
       "<thead>\n",
       "\t<tr><th scope=col>all_trips_v2$usertype</th><th scope=col>all_trips_v2$day_of_week</th><th scope=col>all_trips_v2$ride_length</th></tr>\n",
       "\t<tr><th scope=col>&lt;chr&gt;</th><th scope=col>&lt;ord&gt;</th><th scope=col>&lt;dbl&gt;</th></tr>\n",
       "</thead>\n",
       "<tbody>\n",
       "\t<tr><td>casual</td><td>Sunday   </td><td>3060.8909</td></tr>\n",
       "\t<tr><td>member</td><td>Sunday   </td><td>1092.0798</td></tr>\n",
       "\t<tr><td>casual</td><td>Monday   </td><td>2713.6120</td></tr>\n",
       "\t<tr><td>member</td><td>Monday   </td><td> 914.6754</td></tr>\n",
       "\t<tr><td>casual</td><td>Tuesday  </td><td>2440.7341</td></tr>\n",
       "\t<tr><td>member</td><td>Tuesday  </td><td> 901.9556</td></tr>\n",
       "\t<tr><td>casual</td><td>Wednesday</td><td>2437.3556</td></tr>\n",
       "\t<tr><td>member</td><td>Wednesday</td><td> 910.1430</td></tr>\n",
       "\t<tr><td>casual</td><td>Thursday </td><td>2599.7363</td></tr>\n",
       "\t<tr><td>member</td><td>Thursday </td><td> 905.4181</td></tr>\n",
       "\t<tr><td>casual</td><td>Friday   </td><td>2584.2098</td></tr>\n",
       "\t<tr><td>member</td><td>Friday   </td><td> 938.7465</td></tr>\n",
       "\t<tr><td>casual</td><td>Saturday </td><td>2833.2329</td></tr>\n",
       "\t<tr><td>member</td><td>Saturday </td><td>1063.6670</td></tr>\n",
       "</tbody>\n",
       "</table>\n"
      ],
      "text/latex": [
       "A data.frame: 14 × 3\n",
       "\\begin{tabular}{lll}\n",
       " all\\_trips\\_v2\\$usertype & all\\_trips\\_v2\\$day\\_of\\_week & all\\_trips\\_v2\\$ride\\_length\\\\\n",
       " <chr> & <ord> & <dbl>\\\\\n",
       "\\hline\n",
       "\t casual & Sunday    & 3060.8909\\\\\n",
       "\t member & Sunday    & 1092.0798\\\\\n",
       "\t casual & Monday    & 2713.6120\\\\\n",
       "\t member & Monday    &  914.6754\\\\\n",
       "\t casual & Tuesday   & 2440.7341\\\\\n",
       "\t member & Tuesday   &  901.9556\\\\\n",
       "\t casual & Wednesday & 2437.3556\\\\\n",
       "\t member & Wednesday &  910.1430\\\\\n",
       "\t casual & Thursday  & 2599.7363\\\\\n",
       "\t member & Thursday  &  905.4181\\\\\n",
       "\t casual & Friday    & 2584.2098\\\\\n",
       "\t member & Friday    &  938.7465\\\\\n",
       "\t casual & Saturday  & 2833.2329\\\\\n",
       "\t member & Saturday  & 1063.6670\\\\\n",
       "\\end{tabular}\n"
      ],
      "text/markdown": [
       "\n",
       "A data.frame: 14 × 3\n",
       "\n",
       "| all_trips_v2$usertype &lt;chr&gt; | all_trips_v2$day_of_week &lt;ord&gt; | all_trips_v2$ride_length &lt;dbl&gt; |\n",
       "|---|---|---|\n",
       "| casual | Sunday    | 3060.8909 |\n",
       "| member | Sunday    | 1092.0798 |\n",
       "| casual | Monday    | 2713.6120 |\n",
       "| member | Monday    |  914.6754 |\n",
       "| casual | Tuesday   | 2440.7341 |\n",
       "| member | Tuesday   |  901.9556 |\n",
       "| casual | Wednesday | 2437.3556 |\n",
       "| member | Wednesday |  910.1430 |\n",
       "| casual | Thursday  | 2599.7363 |\n",
       "| member | Thursday  |  905.4181 |\n",
       "| casual | Friday    | 2584.2098 |\n",
       "| member | Friday    |  938.7465 |\n",
       "| casual | Saturday  | 2833.2329 |\n",
       "| member | Saturday  | 1063.6670 |\n",
       "\n"
      ],
      "text/plain": [
       "   all_trips_v2$usertype all_trips_v2$day_of_week all_trips_v2$ride_length\n",
       "1  casual                Sunday                   3060.8909               \n",
       "2  member                Sunday                   1092.0798               \n",
       "3  casual                Monday                   2713.6120               \n",
       "4  member                Monday                    914.6754               \n",
       "5  casual                Tuesday                  2440.7341               \n",
       "6  member                Tuesday                   901.9556               \n",
       "7  casual                Wednesday                2437.3556               \n",
       "8  member                Wednesday                 910.1430               \n",
       "9  casual                Thursday                 2599.7363               \n",
       "10 member                Thursday                  905.4181               \n",
       "11 casual                Friday                   2584.2098               \n",
       "12 member                Friday                    938.7465               \n",
       "13 casual                Saturday                 2833.2329               \n",
       "14 member                Saturday                 1063.6670               "
      ]
     },
     "metadata": {},
     "output_type": "display_data"
    }
   ],
   "source": [
    "# The average ride time by each day of the week for members vs casual users\n",
    "all_trips_v2$day_of_week <- ordered(all_trips_v2$day_of_week, levels = c(\"Sunday\",\n",
    "                                                                         \"Monday\",\n",
    "                                                                         \"Tuesday\",\n",
    "                                                                         \"Wednesday\",\n",
    "                                                                         \"Thursday\",\n",
    "                                                                         \"Friday\",\n",
    "                                                                         \"Saturday\"))\n",
    "\n",
    "aggregate(all_trips_v2$ride_length ~ all_trips_v2$usertype + \n",
    "            all_trips_v2$day_of_week, FUN = mean)"
   ]
  },
  {
   "cell_type": "code",
   "execution_count": 19,
   "id": "cecc1817",
   "metadata": {
    "execution": {
     "iopub.execute_input": "2021-07-17T10:15:47.939462Z",
     "iopub.status.busy": "2021-07-17T10:15:47.937317Z",
     "iopub.status.idle": "2021-07-17T10:15:56.821490Z",
     "shell.execute_reply": "2021-07-17T10:15:56.819663Z"
    },
    "papermill": {
     "duration": 8.923891,
     "end_time": "2021-07-17T10:15:56.821701",
     "exception": false,
     "start_time": "2021-07-17T10:15:47.897810",
     "status": "completed"
    },
    "tags": []
   },
   "outputs": [
    {
     "name": "stderr",
     "output_type": "stream",
     "text": [
      "`summarise()` has grouped output by 'usertype'. You can override using the `.groups` argument.\n",
      "\n"
     ]
    },
    {
     "data": {
      "image/png": "[encoded data removed]"
     },
     "metadata": {
      "image/png": {
       "height": 420,
       "width": 420
      }
     },
     "output_type": "display_data"
    }
   ],
   "source": [
    "# analyze and visualize ridership(no. of rides) data by usertype and weekday\n",
    "\n",
    "all_trips_v2 %>% \n",
    "  mutate(weekday = wday(start_time, label = TRUE)) %>%\n",
    "  group_by(usertype, weekday) %>%\n",
    "  summarise(number_of_rides = n(),\n",
    "  average_duration = mean(ride_length)) %>% \n",
    "  arrange(usertype, weekday) %>% \n",
    "  ggplot(aes(x = weekday, y = number_of_rides, fill = usertype)) +\n",
    "  geom_col(position = \"dodge\") +\n",
    "  labs(title = \"Number of rides by User type during the week\",x=\"Day of the week\",y=\"Number of rides\",\n",
    "  caption = \"Data by Motivate International Inc\", fill=\"User type\") +\n",
    "  theme(legend.position=\"top\")"
   ]
  },
  {
   "cell_type": "code",
   "execution_count": 20,
   "id": "0aabed42",
   "metadata": {
    "execution": {
     "iopub.execute_input": "2021-07-17T10:15:56.903724Z",
     "iopub.status.busy": "2021-07-17T10:15:56.902411Z",
     "iopub.status.idle": "2021-07-17T10:16:04.902303Z",
     "shell.execute_reply": "2021-07-17T10:16:04.900885Z"
    },
    "papermill": {
     "duration": 8.042111,
     "end_time": "2021-07-17T10:16:04.902488",
     "exception": false,
     "start_time": "2021-07-17T10:15:56.860377",
     "status": "completed"
    },
    "tags": []
   },
   "outputs": [
    {
     "name": "stderr",
     "output_type": "stream",
     "text": [
      "`summarise()` has grouped output by 'usertype'. You can override using the `.groups` argument.\n",
      "\n"
     ]
    },
    {
     "data": {
      "image/png": "[encoded data removed]"
     },
     "metadata": {
      "image/png": {
       "height": 420,
       "width": 420
      }
     },
     "output_type": "display_data"
    }
   ],
   "source": [
    "# creating a visualization for average duration and average distance travelled by usertype\n",
    "\n",
    "\n",
    "all_trips_v2 %>% \n",
    "  mutate(weekday = wday(start_time, label = TRUE)) %>% \n",
    "  group_by(usertype, weekday) %>% \n",
    "  summarise(number_of_rides = n(),\n",
    "  average_duration = mean(ride_length)) %>% \n",
    "  arrange(usertype, weekday)  %>% \n",
    "  ggplot(aes(x = weekday, y = average_duration, fill = usertype)) +\n",
    "  geom_col(position = \"dodge\")\n"
   ]
  },
  {
   "cell_type": "markdown",
   "id": "89d57946",
   "metadata": {
    "papermill": {
     "duration": 0.03886,
     "end_time": "2021-07-17T10:16:04.980208",
     "exception": false,
     "start_time": "2021-07-17T10:16:04.941348",
     "status": "completed"
    },
    "tags": []
   },
   "source": [
    "### Analysis Result:\n",
    "* As we can clearly see from the graph between usertypes' no. of rides vs days of week that the casual user take lesser no. of rides than member user throughout the week. But In weekends it's vice-versa.\n",
    "\n",
    "* Also, the casual user have much longer rides througout the week, that would indicate a more leisure oriented usage as compared to use of the bikes by the annual members."
   ]
  },
  {
   "cell_type": "code",
   "execution_count": 21,
   "id": "baac6c24",
   "metadata": {
    "execution": {
     "iopub.execute_input": "2021-07-17T10:16:05.064514Z",
     "iopub.status.busy": "2021-07-17T10:16:05.063183Z",
     "iopub.status.idle": "2021-07-17T10:16:08.038233Z",
     "shell.execute_reply": "2021-07-17T10:16:08.036070Z"
    },
    "papermill": {
     "duration": 3.0184,
     "end_time": "2021-07-17T10:16:08.038429",
     "exception": false,
     "start_time": "2021-07-17T10:16:05.020029",
     "status": "completed"
    },
    "tags": []
   },
   "outputs": [],
   "source": [
    "# aggregating all the data into counts table\n",
    "counts <- aggregate(all_trips_v2$ride_length ~ all_trips_v2$usertype + all_trips_v2$day_of_week, FUN = mean)"
   ]
  },
  {
   "cell_type": "code",
   "execution_count": 22,
   "id": "9da9805e",
   "metadata": {
    "execution": {
     "iopub.execute_input": "2021-07-17T10:16:08.148207Z",
     "iopub.status.busy": "2021-07-17T10:16:08.146798Z",
     "iopub.status.idle": "2021-07-17T10:16:08.164409Z",
     "shell.execute_reply": "2021-07-17T10:16:08.162449Z"
    },
    "papermill": {
     "duration": 0.072865,
     "end_time": "2021-07-17T10:16:08.164548",
     "exception": false,
     "start_time": "2021-07-17T10:16:08.091683",
     "status": "completed"
    },
    "tags": []
   },
   "outputs": [
    {
     "name": "stdout",
     "output_type": "stream",
     "text": [
      "   all_trips_v2$usertype all_trips_v2$day_of_week all_trips_v2$ride_length\n",
      "1                 casual                   Sunday                3060.8909\n",
      "2                 member                   Sunday                1092.0798\n",
      "3                 casual                   Monday                2713.6120\n",
      "4                 member                   Monday                 914.6754\n",
      "5                 casual                  Tuesday                2440.7341\n",
      "6                 member                  Tuesday                 901.9556\n",
      "7                 casual                Wednesday                2437.3556\n",
      "8                 member                Wednesday                 910.1430\n",
      "9                 casual                 Thursday                2599.7363\n",
      "10                member                 Thursday                 905.4181\n",
      "11                casual                   Friday                2584.2098\n",
      "12                member                   Friday                 938.7465\n",
      "13                casual                 Saturday                2833.2329\n",
      "14                member                 Saturday                1063.6670\n"
     ]
    }
   ],
   "source": [
    "# count_table\n",
    "print(counts)"
   ]
  },
  {
   "cell_type": "markdown",
   "id": "f10a563d",
   "metadata": {
    "papermill": {
     "duration": 0.03913,
     "end_time": "2021-07-17T10:16:08.242181",
     "exception": false,
     "start_time": "2021-07-17T10:16:08.203051",
     "status": "completed"
    },
    "tags": []
   },
   "source": []
  },
  {
   "cell_type": "code",
   "execution_count": 23,
   "id": "ad9df836",
   "metadata": {
    "execution": {
     "iopub.execute_input": "2021-07-17T10:16:08.325621Z",
     "iopub.status.busy": "2021-07-17T10:16:08.324041Z",
     "iopub.status.idle": "2021-07-17T10:16:10.805276Z",
     "shell.execute_reply": "2021-07-17T10:16:10.803588Z"
    },
    "papermill": {
     "duration": 2.52461,
     "end_time": "2021-07-17T10:16:10.805588",
     "exception": false,
     "start_time": "2021-07-17T10:16:08.280978",
     "status": "completed"
    },
    "tags": []
   },
   "outputs": [
    {
     "data": {
      "image/png": "[encoded data removed]"
     },
     "metadata": {
      "image/png": {
       "height": 420,
       "width": 420
      }
     },
     "output_type": "display_data"
    },
    {
     "data": {
      "image/png": "[encoded data removed]"
     },
     "metadata": {
      "image/png": {
       "height": 420,
       "width": 420
      }
     },
     "output_type": "display_data"
    }
   ],
   "source": [
    "#Creating a new data frame with only classic_bike and electric_bike entries\n",
    "\n",
    "bike_type <- all_trips_v2 %>% \n",
    "filter(bike_id==\"classic_bike\" | bike_id==\"electric_bike\")\n",
    "\n",
    "# Which biketype each user prefer\n",
    "\n",
    "bike_type %>%\n",
    "group_by(usertype,bike_id) %>%\n",
    "summarise(totals=n(), .groups=\"drop\")  %>%\n",
    "\n",
    "ggplot()+\n",
    "    geom_col(aes(x=usertype,y=totals,fill=bike_id), position = \"dodge\") + \n",
    "    labs(title = \"Bike type usage by user type\",x=\"User type\",y=NULL, fill=\"Bike type\") +\n",
    "    scale_fill_manual(values = c(\"classic_bike\" = \"#746F72\",\"electric_bike\" = \"#FFB100\")) +\n",
    "    theme_minimal() +\n",
    "    theme(legend.position=\"top\")\n",
    "\n",
    "#And their usage by both usertypes throughout the week:\n",
    "\n",
    "bike_type %>%\n",
    "    mutate(weekday = wday(start_time, label = TRUE)) %>% \n",
    "    group_by(usertype,bike_id,weekday) %>%\n",
    "    summarise(totals=n(), .groups=\"drop\") %>%\n",
    "\n",
    "ggplot(aes(x=weekday,y=totals, fill=bike_id)) +\n",
    "  geom_col(, position = \"dodge\") + \n",
    "  facet_wrap(~usertype) +\n",
    "  labs(title = \"Bike type usage by user type during a week\",x=\"User type\",\n",
    "  y=NULL,caption = \"Data by Motivate International Inc\") +\n",
    "  scale_fill_manual(values = c(\"classic_bike\" = \"#746F72\",\"electric_bike\" = \"#FFB100\")) +\n",
    "  theme_minimal() +\n",
    "  theme(legend.position=\"none\")"
   ]
  },
  {
   "cell_type": "markdown",
   "id": "87586785",
   "metadata": {
    "papermill": {
     "duration": 0.041049,
     "end_time": "2021-07-17T10:16:10.888190",
     "exception": false,
     "start_time": "2021-07-17T10:16:10.847141",
     "status": "completed"
    },
    "tags": []
   },
   "source": [
    "### Analysis Result:\n",
    "1. From this graph we can see that the casual member prefer electric bike. Whereas, the anual member prefer both types of bikes for their rides.\n",
    "\n",
    "2. On a weekly basis we can see that for the annual members there is a small difference of usage between the start of the week, where they prefer the classic bike and the end of the week, where they use more electric bikes.\n",
    "\n",
    "3. For the casual users we see in general the same pattern of usage from the previous weekly charts, preferring the electric vs the classic bikes and having a weekend usage of the service."
   ]
  },
  {
   "cell_type": "markdown",
   "id": "baa777ff",
   "metadata": {
    "papermill": {
     "duration": 0.04101,
     "end_time": "2021-07-17T10:16:10.969941",
     "exception": false,
     "start_time": "2021-07-17T10:16:10.928931",
     "status": "completed"
    },
    "tags": []
   },
   "source": [
    "## Phase 5: Share\n",
    "\n",
    "**Key Tasks**\n",
    "\n",
    "* Ensure my work is accessible\n",
    "\n",
    "  To make my analysis work accessible I'll make sure my notebook is public on kaggle.\n",
    "\n",
    "* Determine the best way to share your insights\n",
    "\n",
    "**My insights**\n",
    "\n",
    "1. The annual members uses both types of bike i.e, electric and classic. Whereas, the casual user uses more of electric bike throughout the week\n",
    "\n",
    "2. Looking at the time spent on riding throughout the week we can see that the casual rider spend most time riding on weekends. Whereas, the member riders' average riding duration is relatively constant all week."
   ]
  },
  {
   "cell_type": "markdown",
   "id": "ea328fe3",
   "metadata": {
    "papermill": {
     "duration": 0.041223,
     "end_time": "2021-07-17T10:16:11.052420",
     "exception": false,
     "start_time": "2021-07-17T10:16:11.011197",
     "status": "completed"
    },
    "tags": []
   },
   "source": [
    "## Phase 6: Act\n",
    "\n",
    "**Key Tasks**\n",
    "\n",
    "* **My top three recommendations based on analysis**\n",
    "\n",
    "1. Since casual riders have longer ride durations than annual members, Cyclistic can set up promotions or advertisements that gives casual riders certain discount on their next ride if they ride on weekdays also.\n",
    "\n",
    "2.  They could be notified that buying an annual membership could save them money on longer duration trips.\n",
    " \n",
    "\n",
    "3. Riders who are taking annual membership for the first time will be given some free electric bike rides.\n",
    "\n",
    "\n",
    "#### In this way, casual riders would be more likely to convert to annual members."
   ]
  }
 ],
 "metadata": {
  "kernelspec": {
   "display_name": "R",
   "language": "R",
   "name": "ir"
  },
  "language_info": {
   "codemirror_mode": "r",
   "file_extension": ".r",
   "mimetype": "text/x-r-source",
   "name": "R",
   "pygments_lexer": "r",
   "version": "4.0.5"
  },
  "papermill": {
   "default_parameters": {},
   "duration": 157.561665,
   "end_time": "2021-07-17T10:16:11.303614",
   "environment_variables": {},
   "exception": null,
   "input_path": "__notebook__.ipynb",
   "output_path": "__notebook__.ipynb",
   "parameters": {},
   "start_time": "2021-07-17T10:13:33.741949",
   "version": "2.3.3"
  }
 },
 "nbformat": 4,
 "nbformat_minor": 5
}
